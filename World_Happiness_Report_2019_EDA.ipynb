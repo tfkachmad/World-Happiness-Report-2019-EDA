{
 "cells": [
  {
   "cell_type": "markdown",
   "id": "92a67b04-d7ad-48b2-938a-e1f765078bf8",
   "metadata": {
    "tags": []
   },
   "source": [
    "# WORLD HAPPINESS REPORT 2019 - EDA\n",
    "Dateset: *https://www.kaggle.com/datasets/unsdsn/world-happiness* (Kaggle) \n",
    "\n",
    "**By: Taufik Achmad Septian**\n",
    "\n",
    "---"
   ]
  },
  {
   "cell_type": "markdown",
   "id": "6478ffb9-d958-4e26-bcaf-11113e60c958",
   "metadata": {},
   "source": [
    "## IMPORT LIBRARIES AND LOAD DATASET"
   ]
  },
  {
   "cell_type": "code",
   "execution_count": 1,
   "id": "c5a6a16b-741c-4e0e-aab0-69333f9284af",
   "metadata": {},
   "outputs": [],
   "source": [
    "import numpy as np\n",
    "import pandas as pd\n",
    "import matplotlib.pyplot as plt\n",
    "%matplotlib inline\n",
    "import seaborn as sns"
   ]
  },
  {
   "cell_type": "code",
   "execution_count": 2,
   "id": "003c43af-238c-4a47-98fe-30a35c3be85c",
   "metadata": {},
   "outputs": [
    {
     "data": {
      "text/html": [
       "<div>\n",
       "<style scoped>\n",
       "    .dataframe tbody tr th:only-of-type {\n",
       "        vertical-align: middle;\n",
       "    }\n",
       "\n",
       "    .dataframe tbody tr th {\n",
       "        vertical-align: top;\n",
       "    }\n",
       "\n",
       "    .dataframe thead th {\n",
       "        text-align: right;\n",
       "    }\n",
       "</style>\n",
       "<table border=\"1\" class=\"dataframe\">\n",
       "  <thead>\n",
       "    <tr style=\"text-align: right;\">\n",
       "      <th></th>\n",
       "      <th>Overall rank</th>\n",
       "      <th>Country or region</th>\n",
       "      <th>Score</th>\n",
       "      <th>GDP per capita</th>\n",
       "      <th>Social support</th>\n",
       "      <th>Healthy life expectancy</th>\n",
       "      <th>Freedom to make life choices</th>\n",
       "      <th>Generosity</th>\n",
       "      <th>Perceptions of corruption</th>\n",
       "    </tr>\n",
       "  </thead>\n",
       "  <tbody>\n",
       "    <tr>\n",
       "      <th>0</th>\n",
       "      <td>1</td>\n",
       "      <td>Finland</td>\n",
       "      <td>7.769</td>\n",
       "      <td>1.340</td>\n",
       "      <td>1.587</td>\n",
       "      <td>0.986</td>\n",
       "      <td>0.596</td>\n",
       "      <td>0.153</td>\n",
       "      <td>0.393</td>\n",
       "    </tr>\n",
       "    <tr>\n",
       "      <th>1</th>\n",
       "      <td>2</td>\n",
       "      <td>Denmark</td>\n",
       "      <td>7.600</td>\n",
       "      <td>1.383</td>\n",
       "      <td>1.573</td>\n",
       "      <td>0.996</td>\n",
       "      <td>0.592</td>\n",
       "      <td>0.252</td>\n",
       "      <td>0.410</td>\n",
       "    </tr>\n",
       "    <tr>\n",
       "      <th>2</th>\n",
       "      <td>3</td>\n",
       "      <td>Norway</td>\n",
       "      <td>7.554</td>\n",
       "      <td>1.488</td>\n",
       "      <td>1.582</td>\n",
       "      <td>1.028</td>\n",
       "      <td>0.603</td>\n",
       "      <td>0.271</td>\n",
       "      <td>0.341</td>\n",
       "    </tr>\n",
       "    <tr>\n",
       "      <th>3</th>\n",
       "      <td>4</td>\n",
       "      <td>Iceland</td>\n",
       "      <td>7.494</td>\n",
       "      <td>1.380</td>\n",
       "      <td>1.624</td>\n",
       "      <td>1.026</td>\n",
       "      <td>0.591</td>\n",
       "      <td>0.354</td>\n",
       "      <td>0.118</td>\n",
       "    </tr>\n",
       "    <tr>\n",
       "      <th>4</th>\n",
       "      <td>5</td>\n",
       "      <td>Netherlands</td>\n",
       "      <td>7.488</td>\n",
       "      <td>1.396</td>\n",
       "      <td>1.522</td>\n",
       "      <td>0.999</td>\n",
       "      <td>0.557</td>\n",
       "      <td>0.322</td>\n",
       "      <td>0.298</td>\n",
       "    </tr>\n",
       "  </tbody>\n",
       "</table>\n",
       "</div>"
      ],
      "text/plain": [
       "   Overall rank Country or region  Score  GDP per capita  Social support  \\\n",
       "0             1           Finland  7.769           1.340           1.587   \n",
       "1             2           Denmark  7.600           1.383           1.573   \n",
       "2             3            Norway  7.554           1.488           1.582   \n",
       "3             4           Iceland  7.494           1.380           1.624   \n",
       "4             5       Netherlands  7.488           1.396           1.522   \n",
       "\n",
       "   Healthy life expectancy  Freedom to make life choices  Generosity  \\\n",
       "0                    0.986                         0.596       0.153   \n",
       "1                    0.996                         0.592       0.252   \n",
       "2                    1.028                         0.603       0.271   \n",
       "3                    1.026                         0.591       0.354   \n",
       "4                    0.999                         0.557       0.322   \n",
       "\n",
       "   Perceptions of corruption  \n",
       "0                      0.393  \n",
       "1                      0.410  \n",
       "2                      0.341  \n",
       "3                      0.118  \n",
       "4                      0.298  "
      ]
     },
     "execution_count": 2,
     "metadata": {},
     "output_type": "execute_result"
    }
   ],
   "source": [
    "# Create happiness dataframe from the dataset\n",
    "happiness = pd.read_csv('World_Happiness_Report_2019.csv')\n",
    "\n",
    "# View the first 5 rows from the dataframe\n",
    "happiness.head()"
   ]
  },
  {
   "cell_type": "markdown",
   "id": "5a0ec3b7-ce52-4a0a-9edc-fcd19b7e464a",
   "metadata": {},
   "source": [
    "---\n",
    "## BASIC INFORMATION ABOUT THE DATASET"
   ]
  },
  {
   "cell_type": "markdown",
   "id": "03fef785-3120-47ae-9cc1-b40948af8daf",
   "metadata": {},
   "source": [
    "#### The Dataset Shape"
   ]
  },
  {
   "cell_type": "code",
   "execution_count": 3,
   "id": "a7456620-7552-439e-94b6-c0f965185022",
   "metadata": {},
   "outputs": [
    {
     "data": {
      "text/plain": [
       "(156, 9)"
      ]
     },
     "execution_count": 3,
     "metadata": {},
     "output_type": "execute_result"
    }
   ],
   "source": [
    "# View the shape from the dataframe\n",
    "happiness.shape"
   ]
  },
  {
   "cell_type": "markdown",
   "id": "73aa5aa8-1494-403b-aef7-f532d90f8cd2",
   "metadata": {},
   "source": [
    "The data has 156 rows, where each row represents [representing](https://worldhappiness.report/ed/2019/) a country and its happiness index score."
   ]
  },
  {
   "cell_type": "markdown",
   "id": "1f49ad1e-c433-48f8-b8da-2c6430113831",
   "metadata": {},
   "source": [
    "#### The Dataset Summary "
   ]
  },
  {
   "cell_type": "code",
   "execution_count": 4,
   "id": "b0e46f17-3f32-4e0f-88a2-ccb066692c30",
   "metadata": {},
   "outputs": [
    {
     "name": "stdout",
     "output_type": "stream",
     "text": [
      "<class 'pandas.core.frame.DataFrame'>\n",
      "RangeIndex: 156 entries, 0 to 155\n",
      "Data columns (total 9 columns):\n",
      " #   Column                        Non-Null Count  Dtype  \n",
      "---  ------                        --------------  -----  \n",
      " 0   Overall rank                  156 non-null    int64  \n",
      " 1   Country or region             156 non-null    object \n",
      " 2   Score                         156 non-null    float64\n",
      " 3   GDP per capita                156 non-null    float64\n",
      " 4   Social support                156 non-null    float64\n",
      " 5   Healthy life expectancy       156 non-null    float64\n",
      " 6   Freedom to make life choices  156 non-null    float64\n",
      " 7   Generosity                    156 non-null    float64\n",
      " 8   Perceptions of corruption     156 non-null    float64\n",
      "dtypes: float64(7), int64(1), object(1)\n",
      "memory usage: 11.1+ KB\n"
     ]
    }
   ],
   "source": [
    "# Basic information about the dataframe, including the columns, number of NULL (if exists) and the data type for each columns\n",
    "happiness.info()"
   ]
  },
  {
   "cell_type": "markdown",
   "id": "1b3e6306-fc01-40bb-8959-755b24c88f89",
   "metadata": {},
   "source": [
    "Looking at the basic information about the data, it looks like the data is pretty clean. This is shown by the fact that there are 156 rows in the data and there is no NULL value across its 9 columns. The only thing that needs to be changed is the `Overall rank`, it should be presented as qualitative data because there is no use in aggregating this column for the analysis. Also, capitalizing the countries' names for visualization purposes could also be done."
   ]
  },
  {
   "cell_type": "code",
   "execution_count": 5,
   "id": "89e708df-dbd2-46e2-baaf-5dfceb943579",
   "metadata": {},
   "outputs": [],
   "source": [
    "# Change the Overall rank data type to string\n",
    "happiness['Overall rank'] = happiness['Overall rank'].astype('str')"
   ]
  },
  {
   "cell_type": "code",
   "execution_count": 6,
   "id": "601b2eac-8131-42b5-aa4f-f57ac5675552",
   "metadata": {},
   "outputs": [
    {
     "name": "stdout",
     "output_type": "stream",
     "text": [
      "<class 'pandas.core.frame.DataFrame'>\n",
      "RangeIndex: 156 entries, 0 to 155\n",
      "Data columns (total 9 columns):\n",
      " #   Column                        Non-Null Count  Dtype  \n",
      "---  ------                        --------------  -----  \n",
      " 0   Overall rank                  156 non-null    object \n",
      " 1   Country or region             156 non-null    object \n",
      " 2   Score                         156 non-null    float64\n",
      " 3   GDP per capita                156 non-null    float64\n",
      " 4   Social support                156 non-null    float64\n",
      " 5   Healthy life expectancy       156 non-null    float64\n",
      " 6   Freedom to make life choices  156 non-null    float64\n",
      " 7   Generosity                    156 non-null    float64\n",
      " 8   Perceptions of corruption     156 non-null    float64\n",
      "dtypes: float64(7), object(2)\n",
      "memory usage: 11.1+ KB\n"
     ]
    }
   ],
   "source": [
    "# Confirm change\n",
    "happiness.info()"
   ]
  },
  {
   "cell_type": "code",
   "execution_count": 7,
   "id": "e07330a2-f9e8-4814-8074-2ac547957e26",
   "metadata": {},
   "outputs": [
    {
     "data": {
      "text/html": [
       "<div>\n",
       "<style scoped>\n",
       "    .dataframe tbody tr th:only-of-type {\n",
       "        vertical-align: middle;\n",
       "    }\n",
       "\n",
       "    .dataframe tbody tr th {\n",
       "        vertical-align: top;\n",
       "    }\n",
       "\n",
       "    .dataframe thead th {\n",
       "        text-align: right;\n",
       "    }\n",
       "</style>\n",
       "<table border=\"1\" class=\"dataframe\">\n",
       "  <thead>\n",
       "    <tr style=\"text-align: right;\">\n",
       "      <th></th>\n",
       "      <th>Overall rank</th>\n",
       "      <th>Country or region</th>\n",
       "      <th>Score</th>\n",
       "      <th>GDP per capita</th>\n",
       "      <th>Social support</th>\n",
       "      <th>Healthy life expectancy</th>\n",
       "      <th>Freedom to make life choices</th>\n",
       "      <th>Generosity</th>\n",
       "      <th>Perceptions of corruption</th>\n",
       "    </tr>\n",
       "  </thead>\n",
       "  <tbody>\n",
       "    <tr>\n",
       "      <th>0</th>\n",
       "      <td>1</td>\n",
       "      <td>FINLAND</td>\n",
       "      <td>7.769</td>\n",
       "      <td>1.340</td>\n",
       "      <td>1.587</td>\n",
       "      <td>0.986</td>\n",
       "      <td>0.596</td>\n",
       "      <td>0.153</td>\n",
       "      <td>0.393</td>\n",
       "    </tr>\n",
       "    <tr>\n",
       "      <th>1</th>\n",
       "      <td>2</td>\n",
       "      <td>DENMARK</td>\n",
       "      <td>7.600</td>\n",
       "      <td>1.383</td>\n",
       "      <td>1.573</td>\n",
       "      <td>0.996</td>\n",
       "      <td>0.592</td>\n",
       "      <td>0.252</td>\n",
       "      <td>0.410</td>\n",
       "    </tr>\n",
       "    <tr>\n",
       "      <th>2</th>\n",
       "      <td>3</td>\n",
       "      <td>NORWAY</td>\n",
       "      <td>7.554</td>\n",
       "      <td>1.488</td>\n",
       "      <td>1.582</td>\n",
       "      <td>1.028</td>\n",
       "      <td>0.603</td>\n",
       "      <td>0.271</td>\n",
       "      <td>0.341</td>\n",
       "    </tr>\n",
       "    <tr>\n",
       "      <th>3</th>\n",
       "      <td>4</td>\n",
       "      <td>ICELAND</td>\n",
       "      <td>7.494</td>\n",
       "      <td>1.380</td>\n",
       "      <td>1.624</td>\n",
       "      <td>1.026</td>\n",
       "      <td>0.591</td>\n",
       "      <td>0.354</td>\n",
       "      <td>0.118</td>\n",
       "    </tr>\n",
       "    <tr>\n",
       "      <th>4</th>\n",
       "      <td>5</td>\n",
       "      <td>NETHERLANDS</td>\n",
       "      <td>7.488</td>\n",
       "      <td>1.396</td>\n",
       "      <td>1.522</td>\n",
       "      <td>0.999</td>\n",
       "      <td>0.557</td>\n",
       "      <td>0.322</td>\n",
       "      <td>0.298</td>\n",
       "    </tr>\n",
       "  </tbody>\n",
       "</table>\n",
       "</div>"
      ],
      "text/plain": [
       "  Overall rank Country or region  Score  GDP per capita  Social support  \\\n",
       "0            1           FINLAND  7.769           1.340           1.587   \n",
       "1            2           DENMARK  7.600           1.383           1.573   \n",
       "2            3            NORWAY  7.554           1.488           1.582   \n",
       "3            4           ICELAND  7.494           1.380           1.624   \n",
       "4            5       NETHERLANDS  7.488           1.396           1.522   \n",
       "\n",
       "   Healthy life expectancy  Freedom to make life choices  Generosity  \\\n",
       "0                    0.986                         0.596       0.153   \n",
       "1                    0.996                         0.592       0.252   \n",
       "2                    1.028                         0.603       0.271   \n",
       "3                    1.026                         0.591       0.354   \n",
       "4                    0.999                         0.557       0.322   \n",
       "\n",
       "   Perceptions of corruption  \n",
       "0                      0.393  \n",
       "1                      0.410  \n",
       "2                      0.341  \n",
       "3                      0.118  \n",
       "4                      0.298  "
      ]
     },
     "execution_count": 7,
     "metadata": {},
     "output_type": "execute_result"
    }
   ],
   "source": [
    "# Capitalize the country or region name for visualization purpose\n",
    "happiness['Country or region'] = happiness['Country or region'].str.upper()\n",
    "happiness.head()"
   ]
  },
  {
   "cell_type": "markdown",
   "id": "9d95cc16-cfd7-4da9-8fef-54ef89fb16fd",
   "metadata": {},
   "source": [
    "#### The Decsriptive Statistics From the Dataset"
   ]
  },
  {
   "cell_type": "code",
   "execution_count": 8,
   "id": "9b2d6c95-32f4-4a27-9402-13c28549d653",
   "metadata": {},
   "outputs": [
    {
     "data": {
      "text/html": [
       "<div>\n",
       "<style scoped>\n",
       "    .dataframe tbody tr th:only-of-type {\n",
       "        vertical-align: middle;\n",
       "    }\n",
       "\n",
       "    .dataframe tbody tr th {\n",
       "        vertical-align: top;\n",
       "    }\n",
       "\n",
       "    .dataframe thead th {\n",
       "        text-align: right;\n",
       "    }\n",
       "</style>\n",
       "<table border=\"1\" class=\"dataframe\">\n",
       "  <thead>\n",
       "    <tr style=\"text-align: right;\">\n",
       "      <th></th>\n",
       "      <th>Score</th>\n",
       "      <th>GDP per capita</th>\n",
       "      <th>Social support</th>\n",
       "      <th>Healthy life expectancy</th>\n",
       "      <th>Freedom to make life choices</th>\n",
       "      <th>Generosity</th>\n",
       "      <th>Perceptions of corruption</th>\n",
       "    </tr>\n",
       "  </thead>\n",
       "  <tbody>\n",
       "    <tr>\n",
       "      <th>count</th>\n",
       "      <td>156.000000</td>\n",
       "      <td>156.000000</td>\n",
       "      <td>156.000000</td>\n",
       "      <td>156.000000</td>\n",
       "      <td>156.000000</td>\n",
       "      <td>156.000000</td>\n",
       "      <td>156.000000</td>\n",
       "    </tr>\n",
       "    <tr>\n",
       "      <th>mean</th>\n",
       "      <td>5.407096</td>\n",
       "      <td>0.905147</td>\n",
       "      <td>1.208814</td>\n",
       "      <td>0.725244</td>\n",
       "      <td>0.392571</td>\n",
       "      <td>0.184846</td>\n",
       "      <td>0.110603</td>\n",
       "    </tr>\n",
       "    <tr>\n",
       "      <th>std</th>\n",
       "      <td>1.113120</td>\n",
       "      <td>0.398389</td>\n",
       "      <td>0.299191</td>\n",
       "      <td>0.242124</td>\n",
       "      <td>0.143289</td>\n",
       "      <td>0.095254</td>\n",
       "      <td>0.094538</td>\n",
       "    </tr>\n",
       "    <tr>\n",
       "      <th>min</th>\n",
       "      <td>2.853000</td>\n",
       "      <td>0.000000</td>\n",
       "      <td>0.000000</td>\n",
       "      <td>0.000000</td>\n",
       "      <td>0.000000</td>\n",
       "      <td>0.000000</td>\n",
       "      <td>0.000000</td>\n",
       "    </tr>\n",
       "    <tr>\n",
       "      <th>25%</th>\n",
       "      <td>4.544500</td>\n",
       "      <td>0.602750</td>\n",
       "      <td>1.055750</td>\n",
       "      <td>0.547750</td>\n",
       "      <td>0.308000</td>\n",
       "      <td>0.108750</td>\n",
       "      <td>0.047000</td>\n",
       "    </tr>\n",
       "    <tr>\n",
       "      <th>50%</th>\n",
       "      <td>5.379500</td>\n",
       "      <td>0.960000</td>\n",
       "      <td>1.271500</td>\n",
       "      <td>0.789000</td>\n",
       "      <td>0.417000</td>\n",
       "      <td>0.177500</td>\n",
       "      <td>0.085500</td>\n",
       "    </tr>\n",
       "    <tr>\n",
       "      <th>75%</th>\n",
       "      <td>6.184500</td>\n",
       "      <td>1.232500</td>\n",
       "      <td>1.452500</td>\n",
       "      <td>0.881750</td>\n",
       "      <td>0.507250</td>\n",
       "      <td>0.248250</td>\n",
       "      <td>0.141250</td>\n",
       "    </tr>\n",
       "    <tr>\n",
       "      <th>max</th>\n",
       "      <td>7.769000</td>\n",
       "      <td>1.684000</td>\n",
       "      <td>1.624000</td>\n",
       "      <td>1.141000</td>\n",
       "      <td>0.631000</td>\n",
       "      <td>0.566000</td>\n",
       "      <td>0.453000</td>\n",
       "    </tr>\n",
       "  </tbody>\n",
       "</table>\n",
       "</div>"
      ],
      "text/plain": [
       "            Score  GDP per capita  Social support  Healthy life expectancy  \\\n",
       "count  156.000000      156.000000      156.000000               156.000000   \n",
       "mean     5.407096        0.905147        1.208814                 0.725244   \n",
       "std      1.113120        0.398389        0.299191                 0.242124   \n",
       "min      2.853000        0.000000        0.000000                 0.000000   \n",
       "25%      4.544500        0.602750        1.055750                 0.547750   \n",
       "50%      5.379500        0.960000        1.271500                 0.789000   \n",
       "75%      6.184500        1.232500        1.452500                 0.881750   \n",
       "max      7.769000        1.684000        1.624000                 1.141000   \n",
       "\n",
       "       Freedom to make life choices  Generosity  Perceptions of corruption  \n",
       "count                    156.000000  156.000000                 156.000000  \n",
       "mean                       0.392571    0.184846                   0.110603  \n",
       "std                        0.143289    0.095254                   0.094538  \n",
       "min                        0.000000    0.000000                   0.000000  \n",
       "25%                        0.308000    0.108750                   0.047000  \n",
       "50%                        0.417000    0.177500                   0.085500  \n",
       "75%                        0.507250    0.248250                   0.141250  \n",
       "max                        0.631000    0.566000                   0.453000  "
      ]
     },
     "execution_count": 8,
     "metadata": {},
     "output_type": "execute_result"
    }
   ],
   "source": [
    "# Descriptive statistics from quantitative data in the dataframe\n",
    "happiness.describe()"
   ]
  },
  {
   "cell_type": "markdown",
   "id": "073e6d33-1e1a-4f99-b0f5-7f22a082d861",
   "metadata": {
    "tags": []
   },
   "source": [
    "---\n",
    "## ANALYSIS"
   ]
  },
  {
   "cell_type": "markdown",
   "id": "ad543bfb-4976-4123-a828-05433f204600",
   "metadata": {
    "tags": []
   },
   "source": [
    "#### Happiness Variable"
   ]
  },
  {
   "cell_type": "markdown",
   "id": "cf2883c6-d0d3-46c3-8e34-ae1f38585dfc",
   "metadata": {},
   "source": [
    "There are six [variables](https://www.trackinghappiness.com/happiness-index-2018/) that are the key to measuring the happiness of a country. \n",
    "\n",
    "They are:\n",
    "1. **GDP per Capita**: Represent the GDP per capita level of a country. Can also mean the country’s level of wealth. \n",
    "2. **Social Support**: Represent the satisfaction level of having relatives or friends that can be counted on when needed.\n",
    "3. **Healthy Life Expectancy**: Represent the average number of “healthy” years a child at birth is estimated to live.\n",
    "4. **Freedom to Make Life Choices**: Represent the satisfaction level of the population's freedom to choose what to do with their life\n",
    "5. **Generosity**: Represent the willingness level of people on helping each other.\n",
    "6. **Perceptions of Corruption**: The measure of how people think about how corruption in the country is. Can also mean the level of trust in business and government."
   ]
  },
  {
   "cell_type": "markdown",
   "id": "9b511d92-ed23-4d06-8666-d82ddd17612d",
   "metadata": {
    "tags": []
   },
   "source": [
    "#### Happiness Variable Box Plot "
   ]
  },
  {
   "cell_type": "markdown",
   "id": "3250b563-972a-486a-b857-3977920d7587",
   "metadata": {},
   "source": [
    "Box plot could show if there are certain variables that possibly represent the overall condition of world happiness."
   ]
  },
  {
   "cell_type": "code",
   "execution_count": 9,
   "id": "33d8dee4-c607-4c56-ae9d-e3697e147240",
   "metadata": {},
   "outputs": [],
   "source": [
    "cols = ['GDP per capita',\n",
    "       'Social support', 'Healthy life expectancy',\n",
    "       'Freedom to make life choices', 'Generosity',\n",
    "       'Perceptions of corruption',]\n",
    "\n",
    "# Unpivot or melt the dataframe\n",
    "df_melt = pd.melt(happiness, id_vars=['Country or region'], \n",
    "                  value_vars=cols, \n",
    "                  var_name='variable', \n",
    "                  value_name='point')"
   ]
  },
  {
   "cell_type": "code",
   "execution_count": 10,
   "id": "91bec216-17f0-40f8-8f74-a583f965ba0f",
   "metadata": {},
   "outputs": [
    {
     "data": {
      "image/png": "[encoded data removed]",
      "text/plain": [
       "<Figure size 720x432 with 1 Axes>"
      ]
     },
     "metadata": {
      "needs_background": "light"
     },
     "output_type": "display_data"
    }
   ],
   "source": [
    "# Set the figure width and height\n",
    "plt.figure(figsize = (10,6))\n",
    "\n",
    "# Plot the heatmap of correlation between variables in the dataframe\n",
    "ax = sns.boxplot(x='point', y='variable', data=df_melt, linewidth=2, fliersize=6, palette='Set2')\n",
    "\n",
    "# Set the chart style\n",
    "sns.set_style(\"ticks\")\n",
    "sns.despine()\n",
    "\n",
    "# Set the title, the labels, and custom ticks\n",
    "plt.title('The Box Plot of Happiness Variables', fontsize = 18, pad=15)\n",
    "ax.tick_params(labelsize=14)\n",
    "ax.set_xlabel(\"Points\", fontsize=16, labelpad=5)\n",
    "ax.set_ylabel(\"\")\n",
    "ax.tick_params(labelsize=14)\n",
    "\n",
    "# Show the plot\n",
    "plt.show()"
   ]
  },
  {
   "cell_type": "markdown",
   "id": "ac340250-a4c6-4cb8-bf9c-f68b8b3c3fe1",
   "metadata": {},
   "source": [
    "The graph shows that even though some variables have outliers, those outliers are representing a condition of a country. But, the `Perceptions of corruption` variable has the most outliers among all variables. Those outliers represent the countries with **high trust** in the goverment/business or simply has lower corruption level. This means, that corruption is still a major problem in most of the world."
   ]
  },
  {
   "cell_type": "markdown",
   "id": "7517f320-444f-4f41-acb4-6a50230dd644",
   "metadata": {
    "tags": []
   },
   "source": [
    "#### How Score Variable Measured?"
   ]
  },
  {
   "cell_type": "markdown",
   "id": "caf099b2-95f7-4b7f-a5d3-8102f35773e4",
   "metadata": {},
   "source": [
    "The score variable is not measured by just adding each of the factors that made a country happy or not. "
   ]
  },
  {
   "cell_type": "code",
   "execution_count": 11,
   "id": "cc0e0d9e-8ad8-4525-9c3b-2fd38a01b00d",
   "metadata": {},
   "outputs": [
    {
     "data": {
      "text/plain": [
       "Overall rank                    True\n",
       "Country or region               True\n",
       "Score                           True\n",
       "GDP per capita                  True\n",
       "Social support                  True\n",
       "Healthy life expectancy         True\n",
       "Freedom to make life choices    True\n",
       "Generosity                      True\n",
       "Perceptions of corruption       True\n",
       "Check                           True\n",
       "dtype: bool"
      ]
     },
     "execution_count": 11,
     "metadata": {},
     "output_type": "execute_result"
    }
   ],
   "source": [
    "# Inspiration https://www.kaggle.com/code/lostinworlds/analysing-the-happiness-index-dataset-2019/notebook\n",
    "\n",
    "happiness[\"Check\"] = happiness[['GDP per capita',\n",
    "       'Social support', 'Healthy life expectancy',\n",
    "       'Freedom to make life choices', 'Generosity',\n",
    "       'Perceptions of corruption']].sum(axis = 1)\n",
    "\n",
    "happiness[happiness['Check'] != happiness['Score']].any()"
   ]
  },
  {
   "cell_type": "code",
   "execution_count": 12,
   "id": "ab613292-d513-4a04-ba24-31f8a49d6885",
   "metadata": {},
   "outputs": [
    {
     "data": {
      "text/html": [
       "<div>\n",
       "<style scoped>\n",
       "    .dataframe tbody tr th:only-of-type {\n",
       "        vertical-align: middle;\n",
       "    }\n",
       "\n",
       "    .dataframe tbody tr th {\n",
       "        vertical-align: top;\n",
       "    }\n",
       "\n",
       "    .dataframe thead th {\n",
       "        text-align: right;\n",
       "    }\n",
       "</style>\n",
       "<table border=\"1\" class=\"dataframe\">\n",
       "  <thead>\n",
       "    <tr style=\"text-align: right;\">\n",
       "      <th></th>\n",
       "      <th>Check</th>\n",
       "      <th>Score</th>\n",
       "    </tr>\n",
       "  </thead>\n",
       "  <tbody>\n",
       "    <tr>\n",
       "      <th>88</th>\n",
       "      <td>2.895</td>\n",
       "      <td>5.208</td>\n",
       "    </tr>\n",
       "    <tr>\n",
       "      <th>96</th>\n",
       "      <td>3.816</td>\n",
       "      <td>5.011</td>\n",
       "    </tr>\n",
       "    <tr>\n",
       "      <th>83</th>\n",
       "      <td>3.679</td>\n",
       "      <td>5.274</td>\n",
       "    </tr>\n",
       "    <tr>\n",
       "      <th>155</th>\n",
       "      <td>1.479</td>\n",
       "      <td>2.853</td>\n",
       "    </tr>\n",
       "    <tr>\n",
       "      <th>152</th>\n",
       "      <td>2.700</td>\n",
       "      <td>3.231</td>\n",
       "    </tr>\n",
       "  </tbody>\n",
       "</table>\n",
       "</div>"
      ],
      "text/plain": [
       "     Check  Score\n",
       "88   2.895  5.208\n",
       "96   3.816  5.011\n",
       "83   3.679  5.274\n",
       "155  1.479  2.853\n",
       "152  2.700  3.231"
      ]
     },
     "execution_count": 12,
     "metadata": {},
     "output_type": "execute_result"
    }
   ],
   "source": [
    "happiness[['Check', 'Score']].sample(5)"
   ]
  },
  {
   "cell_type": "code",
   "execution_count": 13,
   "id": "56149a59-b13c-4e63-869a-dece0aeca961",
   "metadata": {},
   "outputs": [],
   "source": [
    "happiness.drop(\"Check\", axis=1, inplace=True)"
   ]
  },
  {
   "cell_type": "markdown",
   "id": "0c9be53f-2deb-44fd-8289-7cfea9f7b137",
   "metadata": {
    "tags": []
   },
   "source": [
    "#### Score Variable Distribution"
   ]
  },
  {
   "cell_type": "markdown",
   "id": "2005d3f0-5e85-4cb6-a773-b3588adecf81",
   "metadata": {},
   "source": [
    "As the most crucial part to determine the level of happiness in a country, the `score` measurements should get more attention here. First, let's look at how the values are distributed."
   ]
  },
  {
   "cell_type": "code",
   "execution_count": 14,
   "id": "922ac094-8b68-4ea1-b4a0-e4d346253698",
   "metadata": {},
   "outputs": [
    {
     "data": {
      "image/png": "[encoded data removed]",
      "text/plain": [
       "<Figure size 576x432 with 1 Axes>"
      ]
     },
     "metadata": {},
     "output_type": "display_data"
    }
   ],
   "source": [
    "plt.figure(figsize = (8, 6)) # Set the figure width and height\n",
    "\n",
    "# Plot the distribution of the score measurement\n",
    "ax = sns.histplot(happiness['Score'], kde=True)\n",
    "\n",
    "# Set the title, the labels, and custom ticks\n",
    "plt.title('The Distribution of Score Variable', fontsize = 16, pad=10)\n",
    "ax.set_xlabel(\"Score\", fontsize=14, labelpad=5)\n",
    "ax.set_ylabel(\"Count\", fontsize=14, labelpad=5)\n",
    "ax.tick_params(labelsize=12)\n",
    "\n",
    "# Show the plot\n",
    "plt.show()"
   ]
  },
  {
   "cell_type": "markdown",
   "id": "fcd984f3-a5e0-4fe1-9105-f31d4d0cb114",
   "metadata": {},
   "source": [
    "From the visual above, the `score` variable has quite bell-shaped graph and the values are mostly laid near the mean value, which is **5.41**"
   ]
  },
  {
   "cell_type": "code",
   "execution_count": 15,
   "id": "fa286356-cc04-47c3-bc17-2c44e0d7cc75",
   "metadata": {},
   "outputs": [
    {
     "name": "stdout",
     "output_type": "stream",
     "text": [
      "Score variable central tendency calculation\"\n",
      "Mean    : 5.41\n",
      "Median  : 5.38\n",
      "Mode    : 5.21\n"
     ]
    }
   ],
   "source": [
    "# Check the mean, median, mode of the Score variable\n",
    "score_mean = round(happiness['Score'].mean(), 2)\n",
    "score_median = round(happiness['Score'].median(), 2)\n",
    "score_mode = round(happiness['Score'].mode()[0] , 2)\n",
    "\n",
    "# Print the result\n",
    "print('Score variable central tendency calculation\"')\n",
    "print('Mean    : {}\\nMedian  : {}\\nMode    : {}'. format(score_mean, score_median, score_mode))"
   ]
  },
  {
   "cell_type": "markdown",
   "id": "3eaf2c53-dad1-49cc-8de0-67ec25f2e254",
   "metadata": {},
   "source": [
    "The central tendency calculation from the `Score` variables also shows that the graph would have a bell-shaped curve, and the mean can be used as the central tendency from the variable."
   ]
  },
  {
   "cell_type": "markdown",
   "id": "2dcccfe4-3b37-48a3-a709-427b181b07ca",
   "metadata": {
    "tags": []
   },
   "source": [
    "#### Correlation Between Happiness Variables"
   ]
  },
  {
   "cell_type": "markdown",
   "id": "5698f997-8bab-481b-847e-cdeab42e8de4",
   "metadata": {},
   "source": [
    "Is it possible from the six variables that determine the happiness level of a country, that there is a certain variable that highly affects it? Let's find out about it."
   ]
  },
  {
   "cell_type": "code",
   "execution_count": 16,
   "id": "7d9cdbb2-cfbc-4c92-90cf-13ff6d499415",
   "metadata": {
    "tags": []
   },
   "outputs": [
    {
     "data": {
      "image/png": "[encoded data removed]",
      "text/plain": [
       "<Figure size 576x288 with 2 Axes>"
      ]
     },
     "metadata": {},
     "output_type": "display_data"
    }
   ],
   "source": [
    "# Get the correlation between variables in the dataframe\n",
    "corr = happiness.corr()\n",
    "\n",
    "# Set the figure width and height\n",
    "plt.figure(figsize = (8,4))\n",
    "\n",
    "# Set the color to use for the heatmap\n",
    "cmap = sns.color_palette(\"OrRd\", as_cmap=True)\n",
    "\n",
    "# Plot the heatmap of correlation between variables in the dataframe\n",
    "ax = sns.heatmap(corr, cbar=True, annot=True, annot_kws={\"size\":12}, cmap=cmap, linewidths=1, linecolor='white')\n",
    "\n",
    "# Set the title, the labels, and custom ticks\n",
    "plt.title('Heatmap of Variables Correlation', fontsize = 16, pad=10)\n",
    "ax.tick_params(labelsize=12)\n",
    "\n",
    "# Show the plot\n",
    "plt.show()"
   ]
  },
  {
   "cell_type": "markdown",
   "id": "8345c274-3e8a-4474-9685-b5212e845be8",
   "metadata": {},
   "source": [
    "It looks like **GDP per Capita**, **Social Support**, and **Healthy life Expectancy** have the greatest correlation with the happiness score each country made, which are above **0.75**."
   ]
  },
  {
   "cell_type": "markdown",
   "id": "a7ba708d-9013-4c48-9c81-37753da1e2fc",
   "metadata": {
    "tags": []
   },
   "source": [
    "#### World Happiest Countries in 2019"
   ]
  },
  {
   "cell_type": "markdown",
   "id": "ffe21a03-57dc-4e1e-ad83-2d625d700c81",
   "metadata": {},
   "source": [
    "Which countries are belong to the happiest countries based on this data? Let's see the top 10 of them."
   ]
  },
  {
   "cell_type": "code",
   "execution_count": 17,
   "id": "888a9d1c-3a8d-433f-ad37-8c379626a41f",
   "metadata": {
    "tags": []
   },
   "outputs": [],
   "source": [
    "# Top 10 happiest countries\n",
    "happy_10 = happiness[['Country or region', 'Score']].head(10)"
   ]
  },
  {
   "cell_type": "code",
   "execution_count": 18,
   "id": "e77dca39-3034-46a2-adaf-516c4d962171",
   "metadata": {
    "tags": []
   },
   "outputs": [
    {
     "data": {
      "image/png": "[encoded data removed]",
      "text/plain": [
       "<Figure size 576x432 with 1 Axes>"
      ]
     },
     "metadata": {},
     "output_type": "display_data"
    }
   ],
   "source": [
    "plt.figure(figsize = (8,6)) # Set the figure width and height\n",
    "\n",
    "# Bar chart showing top 20 countries with highest contribution of GDP per capita on Hapiness level\n",
    "ax = sns.barplot(x='Score', y='Country or region', data=happy_10, palette='rainbow_r')\n",
    "\n",
    "# Set the chart style\n",
    "sns.set_style(\"ticks\")\n",
    "sns.despine()\n",
    "\n",
    "# Set the title, the labels, and custom ticks\n",
    "plt.title(\"Top 10 Happiest Countries in The World - 2019\", fontsize = 16, pad=10)\n",
    "ax.set_xlabel(\"Happiness Points\", fontsize=14, labelpad=5)\n",
    "ax.set_ylabel(\"\")\n",
    "ax.tick_params(labelsize=12)\n",
    "\n",
    "# Show the plot\n",
    "plt.show()"
   ]
  },
  {
   "cell_type": "markdown",
   "id": "796d50d4-3ce2-4a0f-aab4-9b67c98dd4d8",
   "metadata": {},
   "source": [
    "In 2019, **Finland**, **Denmark**, **Norway**, **Iceland**, and **Sweden** that also known as the [Nordic countries](https://en.wikipedia.org/wiki/Nordic_countries), dominated the list. Let's analyze how Nordic countries were able to secure the top 10 spots. Let's start with finding variables that highly affected their happiness score."
   ]
  },
  {
   "cell_type": "code",
   "execution_count": 19,
   "id": "18e91e7f-a61a-4652-a0b6-d4572ed3cf46",
   "metadata": {
    "tags": []
   },
   "outputs": [
    {
     "data": {
      "text/html": [
       "<div>\n",
       "<style scoped>\n",
       "    .dataframe tbody tr th:only-of-type {\n",
       "        vertical-align: middle;\n",
       "    }\n",
       "\n",
       "    .dataframe tbody tr th {\n",
       "        vertical-align: top;\n",
       "    }\n",
       "\n",
       "    .dataframe thead th {\n",
       "        text-align: right;\n",
       "    }\n",
       "</style>\n",
       "<table border=\"1\" class=\"dataframe\">\n",
       "  <thead>\n",
       "    <tr style=\"text-align: right;\">\n",
       "      <th></th>\n",
       "      <th>Overall rank</th>\n",
       "      <th>Country or region</th>\n",
       "      <th>Score</th>\n",
       "      <th>GDP per capita</th>\n",
       "      <th>Social support</th>\n",
       "      <th>Healthy life expectancy</th>\n",
       "      <th>Freedom to make life choices</th>\n",
       "      <th>Generosity</th>\n",
       "      <th>Perceptions of corruption</th>\n",
       "    </tr>\n",
       "  </thead>\n",
       "  <tbody>\n",
       "    <tr>\n",
       "      <th>0</th>\n",
       "      <td>1</td>\n",
       "      <td>FINLAND</td>\n",
       "      <td>7.769</td>\n",
       "      <td>1.340</td>\n",
       "      <td>1.587</td>\n",
       "      <td>0.986</td>\n",
       "      <td>0.596</td>\n",
       "      <td>0.153</td>\n",
       "      <td>0.393</td>\n",
       "    </tr>\n",
       "    <tr>\n",
       "      <th>1</th>\n",
       "      <td>2</td>\n",
       "      <td>DENMARK</td>\n",
       "      <td>7.600</td>\n",
       "      <td>1.383</td>\n",
       "      <td>1.573</td>\n",
       "      <td>0.996</td>\n",
       "      <td>0.592</td>\n",
       "      <td>0.252</td>\n",
       "      <td>0.410</td>\n",
       "    </tr>\n",
       "    <tr>\n",
       "      <th>2</th>\n",
       "      <td>3</td>\n",
       "      <td>NORWAY</td>\n",
       "      <td>7.554</td>\n",
       "      <td>1.488</td>\n",
       "      <td>1.582</td>\n",
       "      <td>1.028</td>\n",
       "      <td>0.603</td>\n",
       "      <td>0.271</td>\n",
       "      <td>0.341</td>\n",
       "    </tr>\n",
       "    <tr>\n",
       "      <th>3</th>\n",
       "      <td>4</td>\n",
       "      <td>ICELAND</td>\n",
       "      <td>7.494</td>\n",
       "      <td>1.380</td>\n",
       "      <td>1.624</td>\n",
       "      <td>1.026</td>\n",
       "      <td>0.591</td>\n",
       "      <td>0.354</td>\n",
       "      <td>0.118</td>\n",
       "    </tr>\n",
       "    <tr>\n",
       "      <th>6</th>\n",
       "      <td>7</td>\n",
       "      <td>SWEDEN</td>\n",
       "      <td>7.343</td>\n",
       "      <td>1.387</td>\n",
       "      <td>1.487</td>\n",
       "      <td>1.009</td>\n",
       "      <td>0.574</td>\n",
       "      <td>0.267</td>\n",
       "      <td>0.373</td>\n",
       "    </tr>\n",
       "  </tbody>\n",
       "</table>\n",
       "</div>"
      ],
      "text/plain": [
       "  Overall rank Country or region  Score  GDP per capita  Social support  \\\n",
       "0            1           FINLAND  7.769           1.340           1.587   \n",
       "1            2           DENMARK  7.600           1.383           1.573   \n",
       "2            3            NORWAY  7.554           1.488           1.582   \n",
       "3            4           ICELAND  7.494           1.380           1.624   \n",
       "6            7            SWEDEN  7.343           1.387           1.487   \n",
       "\n",
       "   Healthy life expectancy  Freedom to make life choices  Generosity  \\\n",
       "0                    0.986                         0.596       0.153   \n",
       "1                    0.996                         0.592       0.252   \n",
       "2                    1.028                         0.603       0.271   \n",
       "3                    1.026                         0.591       0.354   \n",
       "6                    1.009                         0.574       0.267   \n",
       "\n",
       "   Perceptions of corruption  \n",
       "0                      0.393  \n",
       "1                      0.410  \n",
       "2                      0.341  \n",
       "3                      0.118  \n",
       "6                      0.373  "
      ]
     },
     "execution_count": 19,
     "metadata": {},
     "output_type": "execute_result"
    }
   ],
   "source": [
    "# Create a new dataframe for Nordic countries\n",
    "country = ['finland', 'denmark', 'norway', 'iceland', 'sweden']\n",
    "nordic = happiness[happiness['Country or region'].str.lower().isin(country)]\n",
    "nordic"
   ]
  },
  {
   "cell_type": "markdown",
   "id": "f9fcf31a-761c-4d0b-9c30-652e9db2210f",
   "metadata": {
    "tags": []
   },
   "source": [
    "#### GDP per Capita and Happiness"
   ]
  },
  {
   "cell_type": "markdown",
   "id": "27fb28dc-6800-404f-983f-fb0f2d160153",
   "metadata": {},
   "source": [
    "First, let's find the countries with the highest GDP per capita points in 2019."
   ]
  },
  {
   "cell_type": "code",
   "execution_count": 20,
   "id": "ab885967-7e49-4c07-92f6-7f110ccdb07f",
   "metadata": {
    "tags": []
   },
   "outputs": [],
   "source": [
    "# List the top 10 countries with highest GDP per capita points\n",
    "gdp_10 = happiness.sort_values(by='GDP per capita', ascending=False)[['Country or region', 'GDP per capita', 'Overall rank']].head(10)"
   ]
  },
  {
   "cell_type": "code",
   "execution_count": 21,
   "id": "83251c89-bff4-48de-9d53-8b3419c49d2e",
   "metadata": {
    "tags": []
   },
   "outputs": [
    {
     "data": {
      "image/png": "[encoded data removed]",
      "text/plain": [
       "<Figure size 576x432 with 1 Axes>"
      ]
     },
     "metadata": {},
     "output_type": "display_data"
    }
   ],
   "source": [
    "plt.figure(figsize = (8, 6)) # Set the figure width and height\n",
    "\n",
    "# Bar chart showing top 10 countries with highest contribution of GDP per capita on happiness level\n",
    "ax = sns.barplot(x='GDP per capita', y='Country or region', data=gdp_10, palette='summer')\n",
    "\n",
    "# Set the chart style\n",
    "sns.set_style(\"ticks\")\n",
    "sns.despine()\n",
    "\n",
    "# Set the title, the labels, and custom ticks\n",
    "plt.title(\"Top 10 Countries with Highest Contribution of GDP per Capita on Happiness Level\", fontsize = 16, pad=10)\n",
    "ax.set_xlabel(\"GDP per Capita Points\", fontsize=14, labelpad=5)\n",
    "ax.set_ylabel(\"\")\n",
    "ax.tick_params(labelsize=12)\n",
    "\n",
    "# Show the plot\n",
    "plt.show()"
   ]
  },
  {
   "cell_type": "markdown",
   "id": "4c4fcbac-67bd-4af8-bc18-b7c3ee730665",
   "metadata": {
    "tags": []
   },
   "source": [
    "From the GDP per capita variable, it doesn't look like this is a bigger deal in determining the Nordic countries' happiness level. From this list, only **Norway** is included in this list."
   ]
  },
  {
   "cell_type": "code",
   "execution_count": 22,
   "id": "7d8bc01b-47c2-46d4-b96b-110adbd1817e",
   "metadata": {},
   "outputs": [
    {
     "data": {
      "text/html": [
       "<div>\n",
       "<style scoped>\n",
       "    .dataframe tbody tr th:only-of-type {\n",
       "        vertical-align: middle;\n",
       "    }\n",
       "\n",
       "    .dataframe tbody tr th {\n",
       "        vertical-align: top;\n",
       "    }\n",
       "\n",
       "    .dataframe thead th {\n",
       "        text-align: right;\n",
       "    }\n",
       "</style>\n",
       "<table border=\"1\" class=\"dataframe\">\n",
       "  <thead>\n",
       "    <tr style=\"text-align: right;\">\n",
       "      <th></th>\n",
       "      <th>Country or region</th>\n",
       "      <th>GDP per capita</th>\n",
       "      <th>Overall rank</th>\n",
       "    </tr>\n",
       "  </thead>\n",
       "  <tbody>\n",
       "    <tr>\n",
       "      <th>0</th>\n",
       "      <td>NORWAY</td>\n",
       "      <td>1.488</td>\n",
       "      <td>3</td>\n",
       "    </tr>\n",
       "  </tbody>\n",
       "</table>\n",
       "</div>"
      ],
      "text/plain": [
       "  Country or region  GDP per capita Overall rank\n",
       "0            NORWAY           1.488            3"
      ]
     },
     "execution_count": 22,
     "metadata": {},
     "output_type": "execute_result"
    }
   ],
   "source": [
    "# Check the country that also Nordic countries\n",
    "gdp_10[gdp_10['Country or region'].isin(nordic['Country or region'])].reset_index(drop=True)"
   ]
  },
  {
   "cell_type": "markdown",
   "id": "3d143114-25b9-40e9-83d9-0f6f091ff98b",
   "metadata": {},
   "source": [
    "Making the list larger reveals other Nordic countries, which are **Sweden**, **Denmark** and **Iceland**. So, it's clear that GDP per capita is not the main variable of Nordic countries' happiness. But, this does not simply deny the fact that they already have slightly higher GDP per capita than other countries."
   ]
  },
  {
   "cell_type": "code",
   "execution_count": 23,
   "id": "f844f520-3c6f-49a3-b0c0-0cbb0dcce436",
   "metadata": {},
   "outputs": [
    {
     "data": {
      "text/html": [
       "<div>\n",
       "<style scoped>\n",
       "    .dataframe tbody tr th:only-of-type {\n",
       "        vertical-align: middle;\n",
       "    }\n",
       "\n",
       "    .dataframe tbody tr th {\n",
       "        vertical-align: top;\n",
       "    }\n",
       "\n",
       "    .dataframe thead th {\n",
       "        text-align: right;\n",
       "    }\n",
       "</style>\n",
       "<table border=\"1\" class=\"dataframe\">\n",
       "  <thead>\n",
       "    <tr style=\"text-align: right;\">\n",
       "      <th></th>\n",
       "      <th>Country or region</th>\n",
       "      <th>GDP per capita</th>\n",
       "      <th>Overall rank</th>\n",
       "      <th>Nordic</th>\n",
       "    </tr>\n",
       "  </thead>\n",
       "  <tbody>\n",
       "    <tr>\n",
       "      <th>0</th>\n",
       "      <td>QATAR</td>\n",
       "      <td>1.684</td>\n",
       "      <td>29</td>\n",
       "      <td>False</td>\n",
       "    </tr>\n",
       "    <tr>\n",
       "      <th>1</th>\n",
       "      <td>LUXEMBOURG</td>\n",
       "      <td>1.609</td>\n",
       "      <td>14</td>\n",
       "      <td>False</td>\n",
       "    </tr>\n",
       "    <tr>\n",
       "      <th>2</th>\n",
       "      <td>SINGAPORE</td>\n",
       "      <td>1.572</td>\n",
       "      <td>34</td>\n",
       "      <td>False</td>\n",
       "    </tr>\n",
       "    <tr>\n",
       "      <th>3</th>\n",
       "      <td>UNITED ARAB EMIRATES</td>\n",
       "      <td>1.503</td>\n",
       "      <td>21</td>\n",
       "      <td>False</td>\n",
       "    </tr>\n",
       "    <tr>\n",
       "      <th>4</th>\n",
       "      <td>KUWAIT</td>\n",
       "      <td>1.500</td>\n",
       "      <td>51</td>\n",
       "      <td>False</td>\n",
       "    </tr>\n",
       "    <tr>\n",
       "      <th>5</th>\n",
       "      <td>IRELAND</td>\n",
       "      <td>1.499</td>\n",
       "      <td>16</td>\n",
       "      <td>False</td>\n",
       "    </tr>\n",
       "    <tr>\n",
       "      <th>6</th>\n",
       "      <td>NORWAY</td>\n",
       "      <td>1.488</td>\n",
       "      <td>3</td>\n",
       "      <td>True</td>\n",
       "    </tr>\n",
       "    <tr>\n",
       "      <th>7</th>\n",
       "      <td>SWITZERLAND</td>\n",
       "      <td>1.452</td>\n",
       "      <td>6</td>\n",
       "      <td>False</td>\n",
       "    </tr>\n",
       "    <tr>\n",
       "      <th>8</th>\n",
       "      <td>HONG KONG</td>\n",
       "      <td>1.438</td>\n",
       "      <td>76</td>\n",
       "      <td>False</td>\n",
       "    </tr>\n",
       "    <tr>\n",
       "      <th>9</th>\n",
       "      <td>UNITED STATES</td>\n",
       "      <td>1.433</td>\n",
       "      <td>19</td>\n",
       "      <td>False</td>\n",
       "    </tr>\n",
       "    <tr>\n",
       "      <th>10</th>\n",
       "      <td>SAUDI ARABIA</td>\n",
       "      <td>1.403</td>\n",
       "      <td>28</td>\n",
       "      <td>False</td>\n",
       "    </tr>\n",
       "    <tr>\n",
       "      <th>11</th>\n",
       "      <td>NETHERLANDS</td>\n",
       "      <td>1.396</td>\n",
       "      <td>5</td>\n",
       "      <td>False</td>\n",
       "    </tr>\n",
       "    <tr>\n",
       "      <th>12</th>\n",
       "      <td>SWEDEN</td>\n",
       "      <td>1.387</td>\n",
       "      <td>7</td>\n",
       "      <td>True</td>\n",
       "    </tr>\n",
       "    <tr>\n",
       "      <th>13</th>\n",
       "      <td>DENMARK</td>\n",
       "      <td>1.383</td>\n",
       "      <td>2</td>\n",
       "      <td>True</td>\n",
       "    </tr>\n",
       "    <tr>\n",
       "      <th>14</th>\n",
       "      <td>ICELAND</td>\n",
       "      <td>1.380</td>\n",
       "      <td>4</td>\n",
       "      <td>True</td>\n",
       "    </tr>\n",
       "    <tr>\n",
       "      <th>15</th>\n",
       "      <td>AUSTRIA</td>\n",
       "      <td>1.376</td>\n",
       "      <td>10</td>\n",
       "      <td>False</td>\n",
       "    </tr>\n",
       "    <tr>\n",
       "      <th>16</th>\n",
       "      <td>GERMANY</td>\n",
       "      <td>1.373</td>\n",
       "      <td>17</td>\n",
       "      <td>False</td>\n",
       "    </tr>\n",
       "    <tr>\n",
       "      <th>17</th>\n",
       "      <td>AUSTRALIA</td>\n",
       "      <td>1.372</td>\n",
       "      <td>11</td>\n",
       "      <td>False</td>\n",
       "    </tr>\n",
       "    <tr>\n",
       "      <th>18</th>\n",
       "      <td>TAIWAN</td>\n",
       "      <td>1.368</td>\n",
       "      <td>25</td>\n",
       "      <td>False</td>\n",
       "    </tr>\n",
       "    <tr>\n",
       "      <th>19</th>\n",
       "      <td>CANADA</td>\n",
       "      <td>1.365</td>\n",
       "      <td>9</td>\n",
       "      <td>False</td>\n",
       "    </tr>\n",
       "  </tbody>\n",
       "</table>\n",
       "</div>"
      ],
      "text/plain": [
       "       Country or region  GDP per capita Overall rank  Nordic\n",
       "0                  QATAR           1.684           29   False\n",
       "1             LUXEMBOURG           1.609           14   False\n",
       "2              SINGAPORE           1.572           34   False\n",
       "3   UNITED ARAB EMIRATES           1.503           21   False\n",
       "4                 KUWAIT           1.500           51   False\n",
       "5                IRELAND           1.499           16   False\n",
       "6                 NORWAY           1.488            3    True\n",
       "7            SWITZERLAND           1.452            6   False\n",
       "8              HONG KONG           1.438           76   False\n",
       "9          UNITED STATES           1.433           19   False\n",
       "10          SAUDI ARABIA           1.403           28   False\n",
       "11           NETHERLANDS           1.396            5   False\n",
       "12                SWEDEN           1.387            7    True\n",
       "13               DENMARK           1.383            2    True\n",
       "14               ICELAND           1.380            4    True\n",
       "15               AUSTRIA           1.376           10   False\n",
       "16               GERMANY           1.373           17   False\n",
       "17             AUSTRALIA           1.372           11   False\n",
       "18                TAIWAN           1.368           25   False\n",
       "19                CANADA           1.365            9   False"
      ]
     },
     "execution_count": 23,
     "metadata": {},
     "output_type": "execute_result"
    }
   ],
   "source": [
    "# List the top 20 countries with highest GDP per capita points\n",
    "gdp_20 = happiness.sort_values(by='GDP per capita', ascending=False).reset_index(drop=True)[['Country or region', 'GDP per capita', 'Overall rank']].head(20)\n",
    "\n",
    "# Find the position of Nordic countries in the list\n",
    "gdp_20['Nordic'] = np.where(gdp_20['Country or region'].isin(nordic['Country or region']), True, False)\n",
    "gdp_20"
   ]
  },
  {
   "cell_type": "markdown",
   "id": "8e8c6280-71d2-4baf-8e7e-4fc81d76957d",
   "metadata": {
    "tags": []
   },
   "source": [
    "#### Social Support and Happiness"
   ]
  },
  {
   "cell_type": "code",
   "execution_count": 24,
   "id": "0fc84127-ce81-4453-90c2-93d3b258c84e",
   "metadata": {
    "tags": []
   },
   "outputs": [],
   "source": [
    "# List the top 10 countries with highest social support points\n",
    "social_10 = happiness.sort_values(by='Social support', ascending=False)[['Country or region', 'Social support', 'Overall rank']].head(10)"
   ]
  },
  {
   "cell_type": "code",
   "execution_count": 25,
   "id": "b8efbf9b-1525-4c3a-ba50-d85557740bb2",
   "metadata": {
    "tags": []
   },
   "outputs": [
    {
     "data": {
      "image/png": "[encoded data removed]",
      "text/plain": [
       "<Figure size 576x432 with 1 Axes>"
      ]
     },
     "metadata": {},
     "output_type": "display_data"
    }
   ],
   "source": [
    "plt.figure(figsize = (8, 6)) # Set the figure width and height\n",
    "\n",
    "# Bar chart showing top 10 countries with highest contribution of social support on happiness level\n",
    "ax = sns.barplot(x='Social support', y='Country or region', data=social_10, palette='spring')\n",
    "\n",
    "# Set the chart style\n",
    "sns.set_style(\"ticks\")\n",
    "sns.despine()\n",
    "\n",
    "# Set the title, the labels, and custom ticks\n",
    "plt.title(\"Top 10 Countries with Highest Contribution of Social Support on Happiness Level\", fontsize = 16, pad=10)\n",
    "ax.set_xlabel(\"Social Support Points\", fontsize=14, labelpad=5)\n",
    "ax.set_ylabel(\"\")\n",
    "ax.tick_params(labelsize=12)\n",
    "\n",
    "# Show the plot\n",
    "plt.show()"
   ]
  },
  {
   "cell_type": "code",
   "execution_count": 26,
   "id": "29413235-25a3-47f6-b31a-9f0342b71577",
   "metadata": {},
   "outputs": [
    {
     "data": {
      "text/html": [
       "<div>\n",
       "<style scoped>\n",
       "    .dataframe tbody tr th:only-of-type {\n",
       "        vertical-align: middle;\n",
       "    }\n",
       "\n",
       "    .dataframe tbody tr th {\n",
       "        vertical-align: top;\n",
       "    }\n",
       "\n",
       "    .dataframe thead th {\n",
       "        text-align: right;\n",
       "    }\n",
       "</style>\n",
       "<table border=\"1\" class=\"dataframe\">\n",
       "  <thead>\n",
       "    <tr style=\"text-align: right;\">\n",
       "      <th></th>\n",
       "      <th>Country or region</th>\n",
       "      <th>Social support</th>\n",
       "      <th>Overall rank</th>\n",
       "    </tr>\n",
       "  </thead>\n",
       "  <tbody>\n",
       "    <tr>\n",
       "      <th>0</th>\n",
       "      <td>ICELAND</td>\n",
       "      <td>1.624</td>\n",
       "      <td>4</td>\n",
       "    </tr>\n",
       "    <tr>\n",
       "      <th>1</th>\n",
       "      <td>FINLAND</td>\n",
       "      <td>1.587</td>\n",
       "      <td>1</td>\n",
       "    </tr>\n",
       "    <tr>\n",
       "      <th>2</th>\n",
       "      <td>NORWAY</td>\n",
       "      <td>1.582</td>\n",
       "      <td>3</td>\n",
       "    </tr>\n",
       "    <tr>\n",
       "      <th>3</th>\n",
       "      <td>DENMARK</td>\n",
       "      <td>1.573</td>\n",
       "      <td>2</td>\n",
       "    </tr>\n",
       "  </tbody>\n",
       "</table>\n",
       "</div>"
      ],
      "text/plain": [
       "  Country or region  Social support Overall rank\n",
       "0           ICELAND           1.624            4\n",
       "1           FINLAND           1.587            1\n",
       "2            NORWAY           1.582            3\n",
       "3           DENMARK           1.573            2"
      ]
     },
     "execution_count": 26,
     "metadata": {},
     "output_type": "execute_result"
    }
   ],
   "source": [
    "# Check the country that also Nordic countries\n",
    "social_10[social_10['Country or region'].isin(nordic['Country or region'])].reset_index(drop=True)"
   ]
  },
  {
   "cell_type": "markdown",
   "id": "d09c19e6-9597-423e-80cc-f9760ca9acda",
   "metadata": {},
   "source": [
    "It looks like `social support` is the highest contributor to the Nordic countries' overall happiness level. \n",
    "**4/5** Nordic countries have higher `social support` points than every country in the world.\n",
    ">*The support between citizens and state support programs for those in need in the Nordics countries is the [secret](https://time.com/collection/guide-to-happiness/4706590/scandinavia-world-happiness-report-nordics/) behind it.*"
   ]
  },
  {
   "cell_type": "markdown",
   "id": "e20ebed5-f65c-44a3-b456-c666c9c04fb7",
   "metadata": {
    "tags": []
   },
   "source": [
    "#### Healthy Life Expectancy and Happiness"
   ]
  },
  {
   "cell_type": "code",
   "execution_count": 27,
   "id": "ce376f19-6dbd-45b3-85ac-a651db3597f4",
   "metadata": {
    "tags": []
   },
   "outputs": [],
   "source": [
    "# Is high life expectancy make a happy country?\n",
    "life_10 = happiness.sort_values(by='Healthy life expectancy', ascending=False)[['Country or region', 'Healthy life expectancy', 'Overall rank']].head(10)"
   ]
  },
  {
   "cell_type": "code",
   "execution_count": 28,
   "id": "900fb775-c1cb-4797-915a-edf9d5ca390f",
   "metadata": {
    "tags": []
   },
   "outputs": [
    {
     "data": {
      "image/png": "[encoded data removed]",
      "text/plain": [
       "<Figure size 576x432 with 1 Axes>"
      ]
     },
     "metadata": {},
     "output_type": "display_data"
    }
   ],
   "source": [
    "plt.figure(figsize = (8, 6)) # Set the figure width and height\n",
    "\n",
    "# Bar chart showing top 10 countries with highest contribution of healthy life expectancy on happiness level\n",
    "ax = sns.barplot(x='Healthy life expectancy', y='Country or region', data=life_10, palette='coolwarm')\n",
    "\n",
    "# Set the chart style\n",
    "sns.set_style(\"ticks\")\n",
    "sns.despine()\n",
    "\n",
    "# Set the title, the labels, and custom ticks\n",
    "plt.title(\"Top 10 Countries with Highest Contribution of Life Expectancy on Happiness Level\", fontsize = 16, pad=10)\n",
    "ax.set_xlabel(\"Life Expectancy Points\", fontsize=14, labelpad=5)\n",
    "ax.set_ylabel(\"\")\n",
    "ax.tick_params(labelsize=12)\n",
    "\n",
    "# Show the plot\n",
    "plt.show()"
   ]
  },
  {
   "cell_type": "code",
   "execution_count": 29,
   "id": "bfa12ad1-2c44-4905-8481-8918708fd219",
   "metadata": {},
   "outputs": [
    {
     "data": {
      "text/html": [
       "<div>\n",
       "<style scoped>\n",
       "    .dataframe tbody tr th:only-of-type {\n",
       "        vertical-align: middle;\n",
       "    }\n",
       "\n",
       "    .dataframe tbody tr th {\n",
       "        vertical-align: top;\n",
       "    }\n",
       "\n",
       "    .dataframe thead th {\n",
       "        text-align: right;\n",
       "    }\n",
       "</style>\n",
       "<table border=\"1\" class=\"dataframe\">\n",
       "  <thead>\n",
       "    <tr style=\"text-align: right;\">\n",
       "      <th></th>\n",
       "      <th>Country or region</th>\n",
       "      <th>Healthy life expectancy</th>\n",
       "      <th>Overall rank</th>\n",
       "    </tr>\n",
       "  </thead>\n",
       "  <tbody>\n",
       "  </tbody>\n",
       "</table>\n",
       "</div>"
      ],
      "text/plain": [
       "Empty DataFrame\n",
       "Columns: [Country or region, Healthy life expectancy, Overall rank]\n",
       "Index: []"
      ]
     },
     "execution_count": 29,
     "metadata": {},
     "output_type": "execute_result"
    }
   ],
   "source": [
    "# Check the country that also Nordic countries\n",
    "life_10[life_10['Country or region'].isin(nordic['Country or region'])].reset_index(drop=True)"
   ]
  },
  {
   "cell_type": "markdown",
   "id": "214f205b-af49-4674-8c75-aeca4a223782",
   "metadata": {},
   "source": [
    "Just like the GDP per capita case, even though these two variables have a great correlation with the score variable, this is not the case for the Nordic countries. Even if the list of countries with the highest contribution of life expectancy score is made to include the top 20 countries, only **3/5** of Nordic countries are on the list."
   ]
  },
  {
   "cell_type": "code",
   "execution_count": 30,
   "id": "6729678b-3b24-45b0-8ff5-f52435fbba5e",
   "metadata": {},
   "outputs": [
    {
     "data": {
      "text/html": [
       "<div>\n",
       "<style scoped>\n",
       "    .dataframe tbody tr th:only-of-type {\n",
       "        vertical-align: middle;\n",
       "    }\n",
       "\n",
       "    .dataframe tbody tr th {\n",
       "        vertical-align: top;\n",
       "    }\n",
       "\n",
       "    .dataframe thead th {\n",
       "        text-align: right;\n",
       "    }\n",
       "</style>\n",
       "<table border=\"1\" class=\"dataframe\">\n",
       "  <thead>\n",
       "    <tr style=\"text-align: right;\">\n",
       "      <th></th>\n",
       "      <th>Country or region</th>\n",
       "      <th>Healthy life expectancy</th>\n",
       "      <th>Overall rank</th>\n",
       "      <th>Nordic</th>\n",
       "    </tr>\n",
       "  </thead>\n",
       "  <tbody>\n",
       "    <tr>\n",
       "      <th>0</th>\n",
       "      <td>SINGAPORE</td>\n",
       "      <td>1.141</td>\n",
       "      <td>34</td>\n",
       "      <td>False</td>\n",
       "    </tr>\n",
       "    <tr>\n",
       "      <th>1</th>\n",
       "      <td>HONG KONG</td>\n",
       "      <td>1.122</td>\n",
       "      <td>76</td>\n",
       "      <td>False</td>\n",
       "    </tr>\n",
       "    <tr>\n",
       "      <th>2</th>\n",
       "      <td>JAPAN</td>\n",
       "      <td>1.088</td>\n",
       "      <td>58</td>\n",
       "      <td>False</td>\n",
       "    </tr>\n",
       "    <tr>\n",
       "      <th>3</th>\n",
       "      <td>SPAIN</td>\n",
       "      <td>1.062</td>\n",
       "      <td>30</td>\n",
       "      <td>False</td>\n",
       "    </tr>\n",
       "    <tr>\n",
       "      <th>4</th>\n",
       "      <td>SWITZERLAND</td>\n",
       "      <td>1.052</td>\n",
       "      <td>6</td>\n",
       "      <td>False</td>\n",
       "    </tr>\n",
       "    <tr>\n",
       "      <th>5</th>\n",
       "      <td>FRANCE</td>\n",
       "      <td>1.045</td>\n",
       "      <td>24</td>\n",
       "      <td>False</td>\n",
       "    </tr>\n",
       "    <tr>\n",
       "      <th>6</th>\n",
       "      <td>CYPRUS</td>\n",
       "      <td>1.042</td>\n",
       "      <td>49</td>\n",
       "      <td>False</td>\n",
       "    </tr>\n",
       "    <tr>\n",
       "      <th>7</th>\n",
       "      <td>NORTHERN CYPRUS</td>\n",
       "      <td>1.042</td>\n",
       "      <td>64</td>\n",
       "      <td>False</td>\n",
       "    </tr>\n",
       "    <tr>\n",
       "      <th>8</th>\n",
       "      <td>ITALY</td>\n",
       "      <td>1.039</td>\n",
       "      <td>36</td>\n",
       "      <td>False</td>\n",
       "    </tr>\n",
       "    <tr>\n",
       "      <th>9</th>\n",
       "      <td>CANADA</td>\n",
       "      <td>1.039</td>\n",
       "      <td>9</td>\n",
       "      <td>False</td>\n",
       "    </tr>\n",
       "    <tr>\n",
       "      <th>10</th>\n",
       "      <td>AUSTRALIA</td>\n",
       "      <td>1.036</td>\n",
       "      <td>11</td>\n",
       "      <td>False</td>\n",
       "    </tr>\n",
       "    <tr>\n",
       "      <th>11</th>\n",
       "      <td>SOUTH KOREA</td>\n",
       "      <td>1.036</td>\n",
       "      <td>54</td>\n",
       "      <td>False</td>\n",
       "    </tr>\n",
       "    <tr>\n",
       "      <th>12</th>\n",
       "      <td>ISRAEL</td>\n",
       "      <td>1.029</td>\n",
       "      <td>13</td>\n",
       "      <td>False</td>\n",
       "    </tr>\n",
       "    <tr>\n",
       "      <th>13</th>\n",
       "      <td>NORWAY</td>\n",
       "      <td>1.028</td>\n",
       "      <td>3</td>\n",
       "      <td>True</td>\n",
       "    </tr>\n",
       "    <tr>\n",
       "      <th>14</th>\n",
       "      <td>NEW ZEALAND</td>\n",
       "      <td>1.026</td>\n",
       "      <td>8</td>\n",
       "      <td>False</td>\n",
       "    </tr>\n",
       "    <tr>\n",
       "      <th>15</th>\n",
       "      <td>ICELAND</td>\n",
       "      <td>1.026</td>\n",
       "      <td>4</td>\n",
       "      <td>True</td>\n",
       "    </tr>\n",
       "    <tr>\n",
       "      <th>16</th>\n",
       "      <td>AUSTRIA</td>\n",
       "      <td>1.016</td>\n",
       "      <td>10</td>\n",
       "      <td>False</td>\n",
       "    </tr>\n",
       "    <tr>\n",
       "      <th>17</th>\n",
       "      <td>LUXEMBOURG</td>\n",
       "      <td>1.012</td>\n",
       "      <td>14</td>\n",
       "      <td>False</td>\n",
       "    </tr>\n",
       "    <tr>\n",
       "      <th>18</th>\n",
       "      <td>SWEDEN</td>\n",
       "      <td>1.009</td>\n",
       "      <td>7</td>\n",
       "      <td>True</td>\n",
       "    </tr>\n",
       "    <tr>\n",
       "      <th>19</th>\n",
       "      <td>GREECE</td>\n",
       "      <td>0.999</td>\n",
       "      <td>82</td>\n",
       "      <td>False</td>\n",
       "    </tr>\n",
       "  </tbody>\n",
       "</table>\n",
       "</div>"
      ],
      "text/plain": [
       "   Country or region  Healthy life expectancy Overall rank  Nordic\n",
       "0          SINGAPORE                    1.141           34   False\n",
       "1          HONG KONG                    1.122           76   False\n",
       "2              JAPAN                    1.088           58   False\n",
       "3              SPAIN                    1.062           30   False\n",
       "4        SWITZERLAND                    1.052            6   False\n",
       "5             FRANCE                    1.045           24   False\n",
       "6             CYPRUS                    1.042           49   False\n",
       "7    NORTHERN CYPRUS                    1.042           64   False\n",
       "8              ITALY                    1.039           36   False\n",
       "9             CANADA                    1.039            9   False\n",
       "10         AUSTRALIA                    1.036           11   False\n",
       "11       SOUTH KOREA                    1.036           54   False\n",
       "12            ISRAEL                    1.029           13   False\n",
       "13            NORWAY                    1.028            3    True\n",
       "14       NEW ZEALAND                    1.026            8   False\n",
       "15           ICELAND                    1.026            4    True\n",
       "16           AUSTRIA                    1.016           10   False\n",
       "17        LUXEMBOURG                    1.012           14   False\n",
       "18            SWEDEN                    1.009            7    True\n",
       "19            GREECE                    0.999           82   False"
      ]
     },
     "execution_count": 30,
     "metadata": {},
     "output_type": "execute_result"
    }
   ],
   "source": [
    "# List the top 20 countries with highest Healthy life expectancy points\n",
    "life_20 = happiness.sort_values(by='Healthy life expectancy', ascending=False).reset_index(drop=True)[['Country or region', 'Healthy life expectancy', 'Overall rank']].head(20)\n",
    "\n",
    "# Find the position of Nordic countries in the list\n",
    "life_20['Nordic'] = np.where(life_20['Country or region'].isin(nordic['Country or region']), True, False)\n",
    "life_20"
   ]
  },
  {
   "cell_type": "markdown",
   "id": "c07bc61d-e618-42db-8a9e-b1767138c8ce",
   "metadata": {},
   "source": [
    "Of the three variables, which are `GDP per capita`, `Life support`, and `Healthy life expectancy, that have the greatest correlation to the happiness score, only `Life support` has the highest influence on Nordic countries' overall happiness. \n",
    "\n",
    "How about the other variables with a lower correlation to the happiness score, which is `Freedom to make life choices`, `Generosity`, and `Perceptions of corruption`?"
   ]
  },
  {
   "cell_type": "markdown",
   "id": "0d5db0cc-d926-4513-bac2-59f5350c2ebb",
   "metadata": {},
   "source": [
    "#### Freedom to Make Life Choices and Happiness"
   ]
  },
  {
   "cell_type": "code",
   "execution_count": 31,
   "id": "25ad99e7-c1c9-4fb9-8d26-e369a8c84a93",
   "metadata": {
    "tags": []
   },
   "outputs": [],
   "source": [
    "# List the top 10 countries with highest freedom to make life choices points\n",
    "freedom_10 = happiness.sort_values(by='Freedom to make life choices', ascending=False)[['Country or region', 'Freedom to make life choices', 'Overall rank']].head(10)"
   ]
  },
  {
   "cell_type": "code",
   "execution_count": 32,
   "id": "2b516c9d-ff91-4e14-8153-ca2736483e9e",
   "metadata": {
    "tags": []
   },
   "outputs": [
    {
     "data": {
      "image/png": "[encoded data removed]",
      "text/plain": [
       "<Figure size 576x432 with 1 Axes>"
      ]
     },
     "metadata": {},
     "output_type": "display_data"
    }
   ],
   "source": [
    "plt.figure(figsize = (8, 6)) # Set the figure width and height\n",
    "\n",
    "# Bar chart showing top 10 countries with highest contribution of freedom to make life choices on happiness level\n",
    "ax = sns.barplot(x='Freedom to make life choices', y='Country or region', data=freedom_10, palette='autumn')\n",
    "\n",
    "# Set the chart style\n",
    "sns.set_style(\"ticks\")\n",
    "sns.despine()\n",
    "\n",
    "# Set the title, the labels, and custom ticks\n",
    "plt.title(\"Top 10 Countries with Highest Contribution of Freedom to Make Life Choices on Happiness Level\", fontsize = 16, pad=10)\n",
    "ax.set_xlabel(\"Freedom to Make Life Choices Points\", fontsize=14, labelpad=5)\n",
    "ax.set_ylabel(\"\")\n",
    "ax.tick_params(labelsize=12)\n",
    "\n",
    "# Show the plot\n",
    "plt.show()"
   ]
  },
  {
   "cell_type": "code",
   "execution_count": 33,
   "id": "1260fa8f-af51-4aad-bae5-8d06d4f2567a",
   "metadata": {},
   "outputs": [
    {
     "data": {
      "text/html": [
       "<div>\n",
       "<style scoped>\n",
       "    .dataframe tbody tr th:only-of-type {\n",
       "        vertical-align: middle;\n",
       "    }\n",
       "\n",
       "    .dataframe tbody tr th {\n",
       "        vertical-align: top;\n",
       "    }\n",
       "\n",
       "    .dataframe thead th {\n",
       "        text-align: right;\n",
       "    }\n",
       "</style>\n",
       "<table border=\"1\" class=\"dataframe\">\n",
       "  <thead>\n",
       "    <tr style=\"text-align: right;\">\n",
       "      <th></th>\n",
       "      <th>Country or region</th>\n",
       "      <th>Freedom to make life choices</th>\n",
       "      <th>Overall rank</th>\n",
       "    </tr>\n",
       "  </thead>\n",
       "  <tbody>\n",
       "    <tr>\n",
       "      <th>0</th>\n",
       "      <td>NORWAY</td>\n",
       "      <td>0.603</td>\n",
       "      <td>3</td>\n",
       "    </tr>\n",
       "    <tr>\n",
       "      <th>1</th>\n",
       "      <td>FINLAND</td>\n",
       "      <td>0.596</td>\n",
       "      <td>1</td>\n",
       "    </tr>\n",
       "    <tr>\n",
       "      <th>2</th>\n",
       "      <td>DENMARK</td>\n",
       "      <td>0.592</td>\n",
       "      <td>2</td>\n",
       "    </tr>\n",
       "    <tr>\n",
       "      <th>3</th>\n",
       "      <td>ICELAND</td>\n",
       "      <td>0.591</td>\n",
       "      <td>4</td>\n",
       "    </tr>\n",
       "    <tr>\n",
       "      <th>4</th>\n",
       "      <td>SWEDEN</td>\n",
       "      <td>0.574</td>\n",
       "      <td>7</td>\n",
       "    </tr>\n",
       "  </tbody>\n",
       "</table>\n",
       "</div>"
      ],
      "text/plain": [
       "  Country or region  Freedom to make life choices Overall rank\n",
       "0            NORWAY                         0.603            3\n",
       "1           FINLAND                         0.596            1\n",
       "2           DENMARK                         0.592            2\n",
       "3           ICELAND                         0.591            4\n",
       "4            SWEDEN                         0.574            7"
      ]
     },
     "execution_count": 33,
     "metadata": {},
     "output_type": "execute_result"
    }
   ],
   "source": [
    "# Check the country that also Nordic countries\n",
    "freedom_10[freedom_10['Country or region'].isin(nordic['Country or region'])].reset_index(drop=True)"
   ]
  },
  {
   "cell_type": "markdown",
   "id": "3379f5d7-11c7-45da-94f6-d95f6faa8b6c",
   "metadata": {},
   "source": [
    "Even though `Freedom to make life choices` has a lower correlation to the happiness score, this variable has a high influence on Nordic countries' happiness scores. This is proved by the fact that every Nordic country is listed in the top 10 countries with the highest `freedom to make life choices score list.\n",
    "\n",
    "> *The Nordic countries [constitute](https://time.com/collection/guide-to-happiness/4706590/scandinavia-world-happiness-report-nordics/) “the leading example of successful modernization, maximizing prosperity, social solidarity, and political and personal freedom.\"*"
   ]
  },
  {
   "cell_type": "markdown",
   "id": "ce9d9ed9-fcd0-48b1-9fc2-0d45501f9a0e",
   "metadata": {},
   "source": [
    "#### Generosity and Happiness"
   ]
  },
  {
   "cell_type": "code",
   "execution_count": 34,
   "id": "f186b776-4499-4c97-8b0f-1ea93ca4083e",
   "metadata": {
    "tags": []
   },
   "outputs": [],
   "source": [
    "# List the top 10 countries with highest generosity points\n",
    "generosity_10 = happiness.sort_values(by='Generosity', ascending=False)[['Country or region', 'Generosity', 'Overall rank']].head(10)"
   ]
  },
  {
   "cell_type": "code",
   "execution_count": 35,
   "id": "013af6c2-2947-4bb9-9f83-6d6f15f62654",
   "metadata": {
    "tags": []
   },
   "outputs": [
    {
     "data": {
      "image/png": "[encoded data removed]",
      "text/plain": [
       "<Figure size 576x432 with 1 Axes>"
      ]
     },
     "metadata": {},
     "output_type": "display_data"
    }
   ],
   "source": [
    "plt.figure(figsize = (8, 6)) # Set the figure width and height\n",
    "\n",
    "# Bar chart showing top 10 countries with highest contribution of generosity on happiness level\n",
    "ax = sns.barplot(x='Generosity', y='Country or region', data=generosity_10, palette='cool')\n",
    "\n",
    "# Set the chart style\n",
    "sns.set_style(\"ticks\")\n",
    "sns.despine()\n",
    "\n",
    "# Set the title, the labels, and custom ticks\n",
    "plt.title(\"Top 10 Countries with Highest Contribution of Generosity on Happiness Level\", fontsize = 16, pad=10)\n",
    "ax.set_xlabel(\"Generosity Points\", fontsize=14, labelpad=5)\n",
    "ax.set_ylabel(\"\")\n",
    "ax.tick_params(labelsize=12)\n",
    "\n",
    "# Show the plot\n",
    "plt.show()"
   ]
  },
  {
   "cell_type": "code",
   "execution_count": 36,
   "id": "0f4de456-12bb-4262-8c08-672dc66f55ee",
   "metadata": {},
   "outputs": [
    {
     "data": {
      "text/html": [
       "<div>\n",
       "<style scoped>\n",
       "    .dataframe tbody tr th:only-of-type {\n",
       "        vertical-align: middle;\n",
       "    }\n",
       "\n",
       "    .dataframe tbody tr th {\n",
       "        vertical-align: top;\n",
       "    }\n",
       "\n",
       "    .dataframe thead th {\n",
       "        text-align: right;\n",
       "    }\n",
       "</style>\n",
       "<table border=\"1\" class=\"dataframe\">\n",
       "  <thead>\n",
       "    <tr style=\"text-align: right;\">\n",
       "      <th></th>\n",
       "      <th>Country or region</th>\n",
       "      <th>Generosity</th>\n",
       "      <th>Overall rank</th>\n",
       "    </tr>\n",
       "  </thead>\n",
       "  <tbody>\n",
       "    <tr>\n",
       "      <th>0</th>\n",
       "      <td>ICELAND</td>\n",
       "      <td>0.354</td>\n",
       "      <td>4</td>\n",
       "    </tr>\n",
       "  </tbody>\n",
       "</table>\n",
       "</div>"
      ],
      "text/plain": [
       "  Country or region  Generosity Overall rank\n",
       "0           ICELAND       0.354            4"
      ]
     },
     "execution_count": 36,
     "metadata": {},
     "output_type": "execute_result"
    }
   ],
   "source": [
    "# Check the country that also Nordic countries\n",
    "generosity_10[generosity_10['Country or region'].isin(nordic['Country or region'])].reset_index(drop=True)"
   ]
  },
  {
   "cell_type": "markdown",
   "id": "336c3418-6d83-488b-9ba3-a9603b1da4cc",
   "metadata": {},
   "source": [
    "`Generosity` does not have a meaningful meaning in Nordic countries' happiness scores. Even when the list changed to the top 20 countries with the highest Generosity score, still only **Iceland** that included in it."
   ]
  },
  {
   "cell_type": "code",
   "execution_count": 37,
   "id": "ac27c95d-d839-48b8-be67-741e87a0e4a6",
   "metadata": {
    "tags": []
   },
   "outputs": [
    {
     "data": {
      "text/html": [
       "<div>\n",
       "<style scoped>\n",
       "    .dataframe tbody tr th:only-of-type {\n",
       "        vertical-align: middle;\n",
       "    }\n",
       "\n",
       "    .dataframe tbody tr th {\n",
       "        vertical-align: top;\n",
       "    }\n",
       "\n",
       "    .dataframe thead th {\n",
       "        text-align: right;\n",
       "    }\n",
       "</style>\n",
       "<table border=\"1\" class=\"dataframe\">\n",
       "  <thead>\n",
       "    <tr style=\"text-align: right;\">\n",
       "      <th></th>\n",
       "      <th>Country or region</th>\n",
       "      <th>Generosity</th>\n",
       "      <th>Overall rank</th>\n",
       "      <th>Nordic</th>\n",
       "    </tr>\n",
       "  </thead>\n",
       "  <tbody>\n",
       "    <tr>\n",
       "      <th>0</th>\n",
       "      <td>MYANMAR</td>\n",
       "      <td>0.566</td>\n",
       "      <td>131</td>\n",
       "      <td>False</td>\n",
       "    </tr>\n",
       "    <tr>\n",
       "      <th>1</th>\n",
       "      <td>INDONESIA</td>\n",
       "      <td>0.498</td>\n",
       "      <td>92</td>\n",
       "      <td>False</td>\n",
       "    </tr>\n",
       "    <tr>\n",
       "      <th>2</th>\n",
       "      <td>HAITI</td>\n",
       "      <td>0.419</td>\n",
       "      <td>147</td>\n",
       "      <td>False</td>\n",
       "    </tr>\n",
       "    <tr>\n",
       "      <th>3</th>\n",
       "      <td>MALTA</td>\n",
       "      <td>0.375</td>\n",
       "      <td>22</td>\n",
       "      <td>False</td>\n",
       "    </tr>\n",
       "    <tr>\n",
       "      <th>4</th>\n",
       "      <td>KENYA</td>\n",
       "      <td>0.372</td>\n",
       "      <td>121</td>\n",
       "      <td>False</td>\n",
       "    </tr>\n",
       "    <tr>\n",
       "      <th>5</th>\n",
       "      <td>BHUTAN</td>\n",
       "      <td>0.370</td>\n",
       "      <td>95</td>\n",
       "      <td>False</td>\n",
       "    </tr>\n",
       "    <tr>\n",
       "      <th>6</th>\n",
       "      <td>THAILAND</td>\n",
       "      <td>0.359</td>\n",
       "      <td>52</td>\n",
       "      <td>False</td>\n",
       "    </tr>\n",
       "    <tr>\n",
       "      <th>7</th>\n",
       "      <td>ICELAND</td>\n",
       "      <td>0.354</td>\n",
       "      <td>4</td>\n",
       "      <td>True</td>\n",
       "    </tr>\n",
       "    <tr>\n",
       "      <th>8</th>\n",
       "      <td>UNITED KINGDOM</td>\n",
       "      <td>0.348</td>\n",
       "      <td>15</td>\n",
       "      <td>False</td>\n",
       "    </tr>\n",
       "    <tr>\n",
       "      <th>9</th>\n",
       "      <td>AUSTRALIA</td>\n",
       "      <td>0.332</td>\n",
       "      <td>11</td>\n",
       "      <td>False</td>\n",
       "    </tr>\n",
       "    <tr>\n",
       "      <th>10</th>\n",
       "      <td>SYRIA</td>\n",
       "      <td>0.331</td>\n",
       "      <td>149</td>\n",
       "      <td>False</td>\n",
       "    </tr>\n",
       "    <tr>\n",
       "      <th>11</th>\n",
       "      <td>NEW ZEALAND</td>\n",
       "      <td>0.330</td>\n",
       "      <td>8</td>\n",
       "      <td>False</td>\n",
       "    </tr>\n",
       "    <tr>\n",
       "      <th>12</th>\n",
       "      <td>NETHERLANDS</td>\n",
       "      <td>0.322</td>\n",
       "      <td>5</td>\n",
       "      <td>False</td>\n",
       "    </tr>\n",
       "    <tr>\n",
       "      <th>13</th>\n",
       "      <td>UZBEKISTAN</td>\n",
       "      <td>0.322</td>\n",
       "      <td>41</td>\n",
       "      <td>False</td>\n",
       "    </tr>\n",
       "    <tr>\n",
       "      <th>14</th>\n",
       "      <td>KYRGYZSTAN</td>\n",
       "      <td>0.300</td>\n",
       "      <td>86</td>\n",
       "      <td>False</td>\n",
       "    </tr>\n",
       "    <tr>\n",
       "      <th>15</th>\n",
       "      <td>IRELAND</td>\n",
       "      <td>0.298</td>\n",
       "      <td>16</td>\n",
       "      <td>False</td>\n",
       "    </tr>\n",
       "    <tr>\n",
       "      <th>16</th>\n",
       "      <td>CANADA</td>\n",
       "      <td>0.285</td>\n",
       "      <td>9</td>\n",
       "      <td>False</td>\n",
       "    </tr>\n",
       "    <tr>\n",
       "      <th>17</th>\n",
       "      <td>NEPAL</td>\n",
       "      <td>0.285</td>\n",
       "      <td>100</td>\n",
       "      <td>False</td>\n",
       "    </tr>\n",
       "    <tr>\n",
       "      <th>18</th>\n",
       "      <td>UNITED STATES</td>\n",
       "      <td>0.280</td>\n",
       "      <td>19</td>\n",
       "      <td>False</td>\n",
       "    </tr>\n",
       "    <tr>\n",
       "      <th>19</th>\n",
       "      <td>TANZANIA</td>\n",
       "      <td>0.276</td>\n",
       "      <td>153</td>\n",
       "      <td>False</td>\n",
       "    </tr>\n",
       "  </tbody>\n",
       "</table>\n",
       "</div>"
      ],
      "text/plain": [
       "   Country or region  Generosity Overall rank  Nordic\n",
       "0            MYANMAR       0.566          131   False\n",
       "1          INDONESIA       0.498           92   False\n",
       "2              HAITI       0.419          147   False\n",
       "3              MALTA       0.375           22   False\n",
       "4              KENYA       0.372          121   False\n",
       "5             BHUTAN       0.370           95   False\n",
       "6           THAILAND       0.359           52   False\n",
       "7            ICELAND       0.354            4    True\n",
       "8     UNITED KINGDOM       0.348           15   False\n",
       "9          AUSTRALIA       0.332           11   False\n",
       "10             SYRIA       0.331          149   False\n",
       "11       NEW ZEALAND       0.330            8   False\n",
       "12       NETHERLANDS       0.322            5   False\n",
       "13        UZBEKISTAN       0.322           41   False\n",
       "14        KYRGYZSTAN       0.300           86   False\n",
       "15           IRELAND       0.298           16   False\n",
       "16            CANADA       0.285            9   False\n",
       "17             NEPAL       0.285          100   False\n",
       "18     UNITED STATES       0.280           19   False\n",
       "19          TANZANIA       0.276          153   False"
      ]
     },
     "execution_count": 37,
     "metadata": {},
     "output_type": "execute_result"
    }
   ],
   "source": [
    "# List the top 20 countries with highest generosity points\n",
    "generosity_20 = happiness.sort_values(by='Generosity', ascending=False).reset_index(drop=True)[['Country or region', 'Generosity', 'Overall rank']].head(20)\n",
    "\n",
    "# Find the position of Nordic countries in the list\n",
    "generosity_20['Nordic'] = np.where(generosity_20['Country or region'].isin(nordic['Country or region']), True, False)\n",
    "generosity_20"
   ]
  },
  {
   "cell_type": "markdown",
   "id": "6e7da53d-1c83-4a90-97dc-a51903a7873c",
   "metadata": {},
   "source": [
    "#### Perceptions of Corruption and Happiness"
   ]
  },
  {
   "cell_type": "code",
   "execution_count": 38,
   "id": "9d723a40-c44b-44f8-89b4-4e774a956729",
   "metadata": {
    "tags": []
   },
   "outputs": [],
   "source": [
    "# List the top 10 countries with highest perceptions of corruption points\n",
    "corrupt_10 = happiness.sort_values(by='Perceptions of corruption', ascending=False)[['Country or region', 'Perceptions of corruption', 'Overall rank']].head(10)"
   ]
  },
  {
   "cell_type": "code",
   "execution_count": 39,
   "id": "f494020d-947a-49c0-982b-3472c7387f66",
   "metadata": {
    "tags": []
   },
   "outputs": [
    {
     "data": {
      "image/png": "[encoded data removed]",
      "text/plain": [
       "<Figure size 576x432 with 1 Axes>"
      ]
     },
     "metadata": {},
     "output_type": "display_data"
    }
   ],
   "source": [
    "plt.figure(figsize = (8, 6)) # Set the figure width and height\n",
    "\n",
    "# Bar chart showing top 10 countries with highest contribution of perceptions of corruption on happiness level\n",
    "ax = sns.barplot(x='Perceptions of corruption', y='Country or region', data=corrupt_10, palette='YlOrBr')\n",
    "\n",
    "# Set the chart style\n",
    "sns.set_style(\"ticks\")\n",
    "sns.despine()\n",
    "\n",
    "# Set the title, the labels, and custom ticks\n",
    "plt.title(\"Top 10 Countries with Highest Contribution of Perceptions of corruption on Happiness Level\", fontsize = 16, pad=10)\n",
    "ax.set_xlabel(\"Perceptions on corruption Points\", fontsize=14, labelpad=5)\n",
    "ax.set_ylabel(\"\")\n",
    "ax.tick_params(labelsize=12)\n",
    "\n",
    "# Show the plot\n",
    "plt.show()"
   ]
  },
  {
   "cell_type": "code",
   "execution_count": 40,
   "id": "9a306b8b-1592-4d05-9062-3770ceaf32ec",
   "metadata": {},
   "outputs": [
    {
     "data": {
      "text/html": [
       "<div>\n",
       "<style scoped>\n",
       "    .dataframe tbody tr th:only-of-type {\n",
       "        vertical-align: middle;\n",
       "    }\n",
       "\n",
       "    .dataframe tbody tr th {\n",
       "        vertical-align: top;\n",
       "    }\n",
       "\n",
       "    .dataframe thead th {\n",
       "        text-align: right;\n",
       "    }\n",
       "</style>\n",
       "<table border=\"1\" class=\"dataframe\">\n",
       "  <thead>\n",
       "    <tr style=\"text-align: right;\">\n",
       "      <th></th>\n",
       "      <th>Country or region</th>\n",
       "      <th>Perceptions of corruption</th>\n",
       "      <th>Overall rank</th>\n",
       "    </tr>\n",
       "  </thead>\n",
       "  <tbody>\n",
       "    <tr>\n",
       "      <th>0</th>\n",
       "      <td>DENMARK</td>\n",
       "      <td>0.410</td>\n",
       "      <td>2</td>\n",
       "    </tr>\n",
       "    <tr>\n",
       "      <th>1</th>\n",
       "      <td>FINLAND</td>\n",
       "      <td>0.393</td>\n",
       "      <td>1</td>\n",
       "    </tr>\n",
       "    <tr>\n",
       "      <th>2</th>\n",
       "      <td>SWEDEN</td>\n",
       "      <td>0.373</td>\n",
       "      <td>7</td>\n",
       "    </tr>\n",
       "    <tr>\n",
       "      <th>3</th>\n",
       "      <td>NORWAY</td>\n",
       "      <td>0.341</td>\n",
       "      <td>3</td>\n",
       "    </tr>\n",
       "  </tbody>\n",
       "</table>\n",
       "</div>"
      ],
      "text/plain": [
       "  Country or region  Perceptions of corruption Overall rank\n",
       "0           DENMARK                      0.410            2\n",
       "1           FINLAND                      0.393            1\n",
       "2            SWEDEN                      0.373            7\n",
       "3            NORWAY                      0.341            3"
      ]
     },
     "execution_count": 40,
     "metadata": {},
     "output_type": "execute_result"
    }
   ],
   "source": [
    "# Check the country that also Nordic countries\n",
    "corrupt_10[corrupt_10['Country or region'].isin(nordic['Country or region'])].reset_index(drop=True)"
   ]
  },
  {
   "cell_type": "markdown",
   "id": "2ad7b276-cc8d-4961-8d68-9cf975b2bebc",
   "metadata": {},
   "source": [
    "`Perceptions of corruption` looks have a high influence on Nordic countries. After all, **4 of 5** Nordic countries are also listed here. Even though **Iceland** has lower points in these variables, they still got higher points than other Nordics countries in the `generoristy` variable."
   ]
  },
  {
   "cell_type": "code",
   "execution_count": 41,
   "id": "dda14105-7ffd-4978-9cce-bf8247b12f27",
   "metadata": {
    "tags": []
   },
   "outputs": [],
   "source": [
    "# List the top 20 countries with highest Perceptions of corruption points\n",
    "corrupt_20 = happiness.sort_values(by='Perceptions of corruption', ascending=False).reset_index(drop=True)[['Country or region', 'Perceptions of corruption', 'Overall rank']].head(20)\n",
    "# Find the position of Nordic countries in the list\n",
    "corrupt_20['Nordic'] = np.where(corrupt_20['Country or region'].isin(nordic['Country or region']), True, False)"
   ]
  },
  {
   "cell_type": "markdown",
   "id": "cf9123cc-7546-462d-94f6-aa46b10d1459",
   "metadata": {
    "tags": []
   },
   "source": [
    "#### Nordic Countries vs The World"
   ]
  },
  {
   "cell_type": "code",
   "execution_count": 42,
   "id": "ff479689-c2ed-4072-bbe7-d95eedfc12a1",
   "metadata": {},
   "outputs": [],
   "source": [
    "# The Nordic countries average\n",
    "col = ['GDP per capita',\n",
    "       'Social support', \n",
    "       'Healthy life expectancy',\n",
    "       'Freedom to make life choices', \n",
    "       'Generosity',\n",
    "       'Perceptions of corruption',]\n",
    "nordic_df = pd.DataFrame(nordic[col].mean(axis=0))\n",
    "nordic_df = nordic_df.T    # Transpose the dataframe\n",
    "nordic_df.insert(0, 'Country or region', 'Nordic Countries (avg)')"
   ]
  },
  {
   "cell_type": "code",
   "execution_count": 43,
   "id": "5a2ac3a7-f603-4785-a4b8-92f683e760a6",
   "metadata": {},
   "outputs": [],
   "source": [
    "# The world average\n",
    "world_df = pd.DataFrame(happiness[col].mean(axis=0))\n",
    "world_df = world_df.T    # Transpose the dataframe\n",
    "world_df.insert(0, 'Country or region', 'World (avg)')"
   ]
  },
  {
   "cell_type": "code",
   "execution_count": 44,
   "id": "84f80f8c-a878-4118-aaf6-a5342856341b",
   "metadata": {},
   "outputs": [],
   "source": [
    "# The world happiness variables average excluding Nordic countries\n",
    "exclude_nordic = happiness[~happiness['Country or region'].isin(nordic['Country or region'])].reset_index(drop=True)\n",
    "exclude_nordic = pd.DataFrame(exclude_nordic[col].mean(axis=0))\n",
    "exclude_nordic = exclude_nordic.T    # Transpose the dataframe\n",
    "exclude_nordic.insert(0, 'Country or region', 'World (Exclude Nordic Countries) (avg)')"
   ]
  },
  {
   "cell_type": "code",
   "execution_count": 45,
   "id": "24cfe692-6714-4939-8bd0-50392e91e10a",
   "metadata": {},
   "outputs": [],
   "source": [
    "# Concate the three dataframe\n",
    "df_avg = pd.concat([nordic_df, world_df, exclude_nordic], ignore_index=True)\n",
    "df_avg = pd.melt(df_avg, id_vars=['Country or region'], value_vars=col)"
   ]
  },
  {
   "cell_type": "code",
   "execution_count": 46,
   "id": "3f531acb-80fc-47ed-9ce2-173e59a00b41",
   "metadata": {},
   "outputs": [
    {
     "data": {
      "image/png": "[encoded data removed]",
      "text/plain": [
       "<Figure size 1872x432 with 1 Axes>"
      ]
     },
     "metadata": {},
     "output_type": "display_data"
    }
   ],
   "source": [
    "plt.figure(figsize = (26, 6)) # Set the figure width and height\n",
    "\n",
    "# Bar chart showing overall average Nordic countries and the world\n",
    "ax = sns.barplot(x=\"variable\", y=\"value\", hue=\"Country or region\", data=df_avg, \n",
    "                 palette='Set1_r',  edgecolor=\"white\", linewidth=2)\n",
    "# Set the chart style\n",
    "sns.set_style(\"ticks\")\n",
    "sns.despine()\n",
    "\n",
    "# Set the title, the labels, the legend, and custom ticks\n",
    "plt.title(\"Nordic Countries vs World Average Points per Variable\", fontsize = 26, pad=15)\n",
    "ax.set_xlabel(\"\")\n",
    "ax.set_ylabel(\"Average Points\", fontsize=20, labelpad=10)\n",
    "ax.tick_params(labelsize=18)\n",
    "ax.legend(fontsize=18)\n",
    "# Show the plot\n",
    "plt.show()"
   ]
  },
  {
   "cell_type": "markdown",
   "id": "3a698169-d163-4a0b-8a23-072c80bd2001",
   "metadata": {},
   "source": [
    "The Nordic countries have greater average points in every index variable. After all, they dominated the happiness world ranking and must have greater points than the rest of the country. From this graph, the difference between the average `generosity` points of Nordics and the world is relatively small, which is **(0.05)** points. This could be because `generosity` has the weakest correlation with the happiness score, so this variable does not help much with Nordic countries' happiness. Or, because the `generosity` in the Nordic countries is indeed low, after all, only **Iceland** has high points in this variable."
   ]
  },
  {
   "cell_type": "markdown",
   "id": "623a0f39-313d-4a3e-9c5f-1da7923a1819",
   "metadata": {
    "tags": []
   },
   "source": [
    "#### HAPPINESS LEVEL BY COUNTRY MAP"
   ]
  },
  {
   "cell_type": "code",
   "execution_count": 81,
   "id": "52ef93d1-11dd-4054-8208-6560f692138e",
   "metadata": {},
   "outputs": [
    {
     "data": {
      "text/html": [
       "        <script type=\"text/javascript\">\n",
       "        window.PlotlyConfig = {MathJaxConfig: 'local'};\n",
       "        if (window.MathJax) {MathJax.Hub.Config({SVG: {font: \"STIX-Web\"}});}\n",
       "        if (typeof require !== 'undefined') {\n",
       "        require.undef(\"plotly\");\n",
       "        requirejs.config({\n",
       "            paths: {\n",
       "                'plotly': ['https://cdn.plot.ly/plotly-2.9.0.min']\n",
       "            }\n",
       "        });\n",
       "        require(['plotly'], function(Plotly) {\n",
       "            window._Plotly = Plotly;\n",
       "        });\n",
       "        }\n",
       "        </script>\n",
       "        "
      ]
     },
     "metadata": {},
     "output_type": "display_data"
    },
    {
     "data": {
      "application/vnd.plotly.v1+json": {
       "config": {
        "plotlyServerURL": "https://plot.ly"
       },
       "data": [
        {
         "coloraxis": "coloraxis",
         "customdata": [
          [
           "FINLAND",
           "1"
          ],
          [
           "DENMARK",
           "2"
          ],
          [
           "NORWAY",
           "3"
          ],
          [
           "ICELAND",
           "4"
          ],
          [
           "NETHERLANDS",
           "5"
          ],
          [
           "SWITZERLAND",
           "6"
          ],
          [
           "SWEDEN",
           "7"
          ],
          [
           "NEW ZEALAND",
           "8"
          ],
          [
           "CANADA",
           "9"
          ],
          [
           "AUSTRIA",
           "10"
          ],
          [
           "AUSTRALIA",
           "11"
          ],
          [
           "COSTA RICA",
           "12"
          ],
          [
           "ISRAEL",
           "13"
          ],
          [
           "LUXEMBOURG",
           "14"
          ],
          [
           "UNITED KINGDOM",
           "15"
          ],
          [
           "IRELAND",
           "16"
          ],
          [
           "GERMANY",
           "17"
          ],
          [
           "BELGIUM",
           "18"
          ],
          [
           "UNITED STATES",
           "19"
          ],
          [
           "CZECH REPUBLIC",
           "20"
          ],
          [
           "UNITED ARAB EMIRATES",
           "21"
          ],
          [
           "MALTA",
           "22"
          ],
          [
           "MEXICO",
           "23"
          ],
          [
           "FRANCE",
           "24"
          ],
          [
           "TAIWAN",
           "25"
          ],
          [
           "CHILE",
           "26"
          ],
          [
           "GUATEMALA",
           "27"
          ],
          [
           "SAUDI ARABIA",
           "28"
          ],
          [
           "QATAR",
           "29"
          ],
          [
           "SPAIN",
           "30"
          ],
          [
           "PANAMA",
           "31"
          ],
          [
           "BRAZIL",
           "32"
          ],
          [
           "URUGUAY",
           "33"
          ],
          [
           "SINGAPORE",
           "34"
          ],
          [
           "EL SALVADOR",
           "35"
          ],
          [
           "ITALY",
           "36"
          ],
          [
           "BAHRAIN",
           "37"
          ],
          [
           "SLOVAKIA",
           "38"
          ],
          [
           "TRINIDAD & TOBAGO",
           "39"
          ],
          [
           "POLAND",
           "40"
          ],
          [
           "UZBEKISTAN",
           "41"
          ],
          [
           "LITHUANIA",
           "42"
          ],
          [
           "COLOMBIA",
           "43"
          ],
          [
           "SLOVENIA",
           "44"
          ],
          [
           "NICARAGUA",
           "45"
          ],
          [
           "KOSOVO",
           "46"
          ],
          [
           "ARGENTINA",
           "47"
          ],
          [
           "ROMANIA",
           "48"
          ],
          [
           "CYPRUS",
           "49"
          ],
          [
           "ECUADOR",
           "50"
          ],
          [
           "KUWAIT",
           "51"
          ],
          [
           "THAILAND",
           "52"
          ],
          [
           "LATVIA",
           "53"
          ],
          [
           "SOUTH KOREA",
           "54"
          ],
          [
           "ESTONIA",
           "55"
          ],
          [
           "JAMAICA",
           "56"
          ],
          [
           "MAURITIUS",
           "57"
          ],
          [
           "JAPAN",
           "58"
          ],
          [
           "HONDURAS",
           "59"
          ],
          [
           "KAZAKHSTAN",
           "60"
          ],
          [
           "BOLIVIA",
           "61"
          ],
          [
           "HUNGARY",
           "62"
          ],
          [
           "PARAGUAY",
           "63"
          ],
          [
           "NORTHERN CYPRUS",
           "64"
          ],
          [
           "PERU",
           "65"
          ],
          [
           "PORTUGAL",
           "66"
          ],
          [
           "PAKISTAN",
           "67"
          ],
          [
           "RUSSIA",
           "68"
          ],
          [
           "PHILIPPINES",
           "69"
          ],
          [
           "SERBIA",
           "70"
          ],
          [
           "MOLDOVA",
           "71"
          ],
          [
           "LIBYA",
           "72"
          ],
          [
           "MONTENEGRO",
           "73"
          ],
          [
           "TAJIKISTAN",
           "74"
          ],
          [
           "CROATIA",
           "75"
          ],
          [
           "HONG KONG",
           "76"
          ],
          [
           "DOMINICAN REPUBLIC",
           "77"
          ],
          [
           "BOSNIA AND HERZEGOVINA",
           "78"
          ],
          [
           "TURKEY",
           "79"
          ],
          [
           "MALAYSIA",
           "80"
          ],
          [
           "BELARUS",
           "81"
          ],
          [
           "GREECE",
           "82"
          ],
          [
           "MONGOLIA",
           "83"
          ],
          [
           "NORTH MACEDONIA",
           "84"
          ],
          [
           "NIGERIA",
           "85"
          ],
          [
           "KYRGYZSTAN",
           "86"
          ],
          [
           "TURKMENISTAN",
           "87"
          ],
          [
           "ALGERIA",
           "88"
          ],
          [
           "MOROCCO",
           "89"
          ],
          [
           "AZERBAIJAN",
           "90"
          ],
          [
           "LEBANON",
           "91"
          ],
          [
           "INDONESIA",
           "92"
          ],
          [
           "CHINA",
           "93"
          ],
          [
           "VIETNAM",
           "94"
          ],
          [
           "BHUTAN",
           "95"
          ],
          [
           "CAMEROON",
           "96"
          ],
          [
           "BULGARIA",
           "97"
          ],
          [
           "GHANA",
           "98"
          ],
          [
           "IVORY COAST",
           "99"
          ],
          [
           "NEPAL",
           "100"
          ],
          [
           "JORDAN",
           "101"
          ],
          [
           "BENIN",
           "102"
          ],
          [
           "CONGO (BRAZZAVILLE)",
           "103"
          ],
          [
           "GABON",
           "104"
          ],
          [
           "LAOS",
           "105"
          ],
          [
           "SOUTH AFRICA",
           "106"
          ],
          [
           "ALBANIA",
           "107"
          ],
          [
           "VENEZUELA",
           "108"
          ],
          [
           "CAMBODIA",
           "109"
          ],
          [
           "PALESTINIAN TERRITORIES",
           "110"
          ],
          [
           "SENEGAL",
           "111"
          ],
          [
           "SOMALIA",
           "112"
          ],
          [
           "NAMIBIA",
           "113"
          ],
          [
           "NIGER",
           "114"
          ],
          [
           "BURKINA FASO",
           "115"
          ],
          [
           "ARMENIA",
           "116"
          ],
          [
           "IRAN",
           "117"
          ],
          [
           "GUINEA",
           "118"
          ],
          [
           "GEORGIA",
           "119"
          ],
          [
           "GAMBIA",
           "120"
          ],
          [
           "KENYA",
           "121"
          ],
          [
           "MAURITANIA",
           "122"
          ],
          [
           "MOZAMBIQUE",
           "123"
          ],
          [
           "TUNISIA",
           "124"
          ],
          [
           "BANGLADESH",
           "125"
          ],
          [
           "IRAQ",
           "126"
          ],
          [
           "CONGO (KINSHASA)",
           "127"
          ],
          [
           "MALI",
           "128"
          ],
          [
           "SIERRA LEONE",
           "129"
          ],
          [
           "SRI LANKA",
           "130"
          ],
          [
           "MYANMAR",
           "131"
          ],
          [
           "CHAD",
           "132"
          ],
          [
           "UKRAINE",
           "133"
          ],
          [
           "ETHIOPIA",
           "134"
          ],
          [
           "SWAZILAND",
           "135"
          ],
          [
           "UGANDA",
           "136"
          ],
          [
           "EGYPT",
           "137"
          ],
          [
           "ZAMBIA",
           "138"
          ],
          [
           "TOGO",
           "139"
          ],
          [
           "INDIA",
           "140"
          ],
          [
           "LIBERIA",
           "141"
          ],
          [
           "COMOROS",
           "142"
          ],
          [
           "MADAGASCAR",
           "143"
          ],
          [
           "LESOTHO",
           "144"
          ],
          [
           "BURUNDI",
           "145"
          ],
          [
           "ZIMBABWE",
           "146"
          ],
          [
           "HAITI",
           "147"
          ],
          [
           "BOTSWANA",
           "148"
          ],
          [
           "SYRIA",
           "149"
          ],
          [
           "MALAWI",
           "150"
          ],
          [
           "YEMEN",
           "151"
          ],
          [
           "RWANDA",
           "152"
          ],
          [
           "TANZANIA",
           "153"
          ],
          [
           "AFGHANISTAN",
           "154"
          ],
          [
           "CENTRAL AFRICAN REPUBLIC",
           "155"
          ],
          [
           "SOUTH SUDAN",
           "156"
          ]
         ],
         "geo": "geo",
         "hovertemplate": "<b>%{hovertext}</b><br><br>Overall rank=%{customdata[1]}<br>Score=%{z}<extra></extra>",
         "hovertext": [
          "FINLAND",
          "DENMARK",
          "NORWAY",
          "ICELAND",
          "NETHERLANDS",
          "SWITZERLAND",
          "SWEDEN",
          "NEW ZEALAND",
          "CANADA",
          "AUSTRIA",
          "AUSTRALIA",
          "COSTA RICA",
          "ISRAEL",
          "LUXEMBOURG",
          "UNITED KINGDOM",
          "IRELAND",
          "GERMANY",
          "BELGIUM",
          "UNITED STATES",
          "CZECH REPUBLIC",
          "UNITED ARAB EMIRATES",
          "MALTA",
          "MEXICO",
          "FRANCE",
          "TAIWAN",
          "CHILE",
          "GUATEMALA",
          "SAUDI ARABIA",
          "QATAR",
          "SPAIN",
          "PANAMA",
          "BRAZIL",
          "URUGUAY",
          "SINGAPORE",
          "EL SALVADOR",
          "ITALY",
          "BAHRAIN",
          "SLOVAKIA",
          "TRINIDAD & TOBAGO",
          "POLAND",
          "UZBEKISTAN",
          "LITHUANIA",
          "COLOMBIA",
          "SLOVENIA",
          "NICARAGUA",
          "KOSOVO",
          "ARGENTINA",
          "ROMANIA",
          "CYPRUS",
          "ECUADOR",
          "KUWAIT",
          "THAILAND",
          "LATVIA",
          "SOUTH KOREA",
          "ESTONIA",
          "JAMAICA",
          "MAURITIUS",
          "JAPAN",
          "HONDURAS",
          "KAZAKHSTAN",
          "BOLIVIA",
          "HUNGARY",
          "PARAGUAY",
          "NORTHERN CYPRUS",
          "PERU",
          "PORTUGAL",
          "PAKISTAN",
          "RUSSIA",
          "PHILIPPINES",
          "SERBIA",
          "MOLDOVA",
          "LIBYA",
          "MONTENEGRO",
          "TAJIKISTAN",
          "CROATIA",
          "HONG KONG",
          "DOMINICAN REPUBLIC",
          "BOSNIA AND HERZEGOVINA",
          "TURKEY",
          "MALAYSIA",
          "BELARUS",
          "GREECE",
          "MONGOLIA",
          "NORTH MACEDONIA",
          "NIGERIA",
          "KYRGYZSTAN",
          "TURKMENISTAN",
          "ALGERIA",
          "MOROCCO",
          "AZERBAIJAN",
          "LEBANON",
          "INDONESIA",
          "CHINA",
          "VIETNAM",
          "BHUTAN",
          "CAMEROON",
          "BULGARIA",
          "GHANA",
          "IVORY COAST",
          "NEPAL",
          "JORDAN",
          "BENIN",
          "CONGO (BRAZZAVILLE)",
          "GABON",
          "LAOS",
          "SOUTH AFRICA",
          "ALBANIA",
          "VENEZUELA",
          "CAMBODIA",
          "PALESTINIAN TERRITORIES",
          "SENEGAL",
          "SOMALIA",
          "NAMIBIA",
          "NIGER",
          "BURKINA FASO",
          "ARMENIA",
          "IRAN",
          "GUINEA",
          "GEORGIA",
          "GAMBIA",
          "KENYA",
          "MAURITANIA",
          "MOZAMBIQUE",
          "TUNISIA",
          "BANGLADESH",
          "IRAQ",
          "CONGO (KINSHASA)",
          "MALI",
          "SIERRA LEONE",
          "SRI LANKA",
          "MYANMAR",
          "CHAD",
          "UKRAINE",
          "ETHIOPIA",
          "SWAZILAND",
          "UGANDA",
          "EGYPT",
          "ZAMBIA",
          "TOGO",
          "INDIA",
          "LIBERIA",
          "COMOROS",
          "MADAGASCAR",
          "LESOTHO",
          "BURUNDI",
          "ZIMBABWE",
          "HAITI",
          "BOTSWANA",
          "SYRIA",
          "MALAWI",
          "YEMEN",
          "RWANDA",
          "TANZANIA",
          "AFGHANISTAN",
          "CENTRAL AFRICAN REPUBLIC",
          "SOUTH SUDAN"
         ],
         "locationmode": "country names",
         "locations": [
          "FINLAND",
          "DENMARK",
          "NORWAY",
          "ICELAND",
          "NETHERLANDS",
          "SWITZERLAND",
          "SWEDEN",
          "NEW ZEALAND",
          "CANADA",
          "AUSTRIA",
          "AUSTRALIA",
          "COSTA RICA",
          "ISRAEL",
          "LUXEMBOURG",
          "UNITED KINGDOM",
          "IRELAND",
          "GERMANY",
          "BELGIUM",
          "UNITED STATES",
          "CZECH REPUBLIC",
          "UNITED ARAB EMIRATES",
          "MALTA",
          "MEXICO",
          "FRANCE",
          "TAIWAN",
          "CHILE",
          "GUATEMALA",
          "SAUDI ARABIA",
          "QATAR",
          "SPAIN",
          "PANAMA",
          "BRAZIL",
          "URUGUAY",
          "SINGAPORE",
          "EL SALVADOR",
          "ITALY",
          "BAHRAIN",
          "SLOVAKIA",
          "TRINIDAD & TOBAGO",
          "POLAND",
          "UZBEKISTAN",
          "LITHUANIA",
          "COLOMBIA",
          "SLOVENIA",
          "NICARAGUA",
          "KOSOVO",
          "ARGENTINA",
          "ROMANIA",
          "CYPRUS",
          "ECUADOR",
          "KUWAIT",
          "THAILAND",
          "LATVIA",
          "SOUTH KOREA",
          "ESTONIA",
          "JAMAICA",
          "MAURITIUS",
          "JAPAN",
          "HONDURAS",
          "KAZAKHSTAN",
          "BOLIVIA",
          "HUNGARY",
          "PARAGUAY",
          "NORTHERN CYPRUS",
          "PERU",
          "PORTUGAL",
          "PAKISTAN",
          "RUSSIA",
          "PHILIPPINES",
          "SERBIA",
          "MOLDOVA",
          "LIBYA",
          "MONTENEGRO",
          "TAJIKISTAN",
          "CROATIA",
          "HONG KONG",
          "DOMINICAN REPUBLIC",
          "BOSNIA AND HERZEGOVINA",
          "TURKEY",
          "MALAYSIA",
          "BELARUS",
          "GREECE",
          "MONGOLIA",
          "NORTH MACEDONIA",
          "NIGERIA",
          "KYRGYZSTAN",
          "TURKMENISTAN",
          "ALGERIA",
          "MOROCCO",
          "AZERBAIJAN",
          "LEBANON",
          "INDONESIA",
          "CHINA",
          "VIETNAM",
          "BHUTAN",
          "CAMEROON",
          "BULGARIA",
          "GHANA",
          "IVORY COAST",
          "NEPAL",
          "JORDAN",
          "BENIN",
          "CONGO (BRAZZAVILLE)",
          "GABON",
          "LAOS",
          "SOUTH AFRICA",
          "ALBANIA",
          "VENEZUELA",
          "CAMBODIA",
          "PALESTINIAN TERRITORIES",
          "SENEGAL",
          "SOMALIA",
          "NAMIBIA",
          "NIGER",
          "BURKINA FASO",
          "ARMENIA",
          "IRAN",
          "GUINEA",
          "GEORGIA",
          "GAMBIA",
          "KENYA",
          "MAURITANIA",
          "MOZAMBIQUE",
          "TUNISIA",
          "BANGLADESH",
          "IRAQ",
          "CONGO (KINSHASA)",
          "MALI",
          "SIERRA LEONE",
          "SRI LANKA",
          "MYANMAR",
          "CHAD",
          "UKRAINE",
          "ETHIOPIA",
          "SWAZILAND",
          "UGANDA",
          "EGYPT",
          "ZAMBIA",
          "TOGO",
          "INDIA",
          "LIBERIA",
          "COMOROS",
          "MADAGASCAR",
          "LESOTHO",
          "BURUNDI",
          "ZIMBABWE",
          "HAITI",
          "BOTSWANA",
          "SYRIA",
          "MALAWI",
          "YEMEN",
          "RWANDA",
          "TANZANIA",
          "AFGHANISTAN",
          "CENTRAL AFRICAN REPUBLIC",
          "SOUTH SUDAN"
         ],
         "name": "",
         "type": "choropleth",
         "z": [
          7.769,
          7.6,
          7.554,
          7.494,
          7.488,
          7.48,
          7.343,
          7.307,
          7.278,
          7.246,
          7.228,
          7.167,
          7.139,
          7.09,
          7.054,
          7.021,
          6.985,
          6.923,
          6.892,
          6.852,
          6.825,
          6.726,
          6.595,
          6.592,
          6.446,
          6.444,
          6.436,
          6.375,
          6.374,
          6.354,
          6.321,
          6.3,
          6.293,
          6.262,
          6.253,
          6.223,
          6.199,
          6.198,
          6.192,
          6.182,
          6.174,
          6.149,
          6.125,
          6.118,
          6.105,
          6.1,
          6.086,
          6.07,
          6.046,
          6.028,
          6.021,
          6.008,
          5.94,
          5.895,
          5.893,
          5.89,
          5.888,
          5.886,
          5.86,
          5.809,
          5.779,
          5.758,
          5.743,
          5.718,
          5.697,
          5.693,
          5.653,
          5.648,
          5.631,
          5.603,
          5.529,
          5.525,
          5.523,
          5.467,
          5.432,
          5.43,
          5.425,
          5.386,
          5.373,
          5.339,
          5.323,
          5.287,
          5.285,
          5.274,
          5.265,
          5.261,
          5.247,
          5.211,
          5.208,
          5.208,
          5.197,
          5.192,
          5.191,
          5.175,
          5.082,
          5.044,
          5.011,
          4.996,
          4.944,
          4.913,
          4.906,
          4.883,
          4.812,
          4.799,
          4.796,
          4.722,
          4.719,
          4.707,
          4.7,
          4.696,
          4.681,
          4.668,
          4.639,
          4.628,
          4.587,
          4.559,
          4.548,
          4.534,
          4.519,
          4.516,
          4.509,
          4.49,
          4.466,
          4.461,
          4.456,
          4.437,
          4.418,
          4.39,
          4.374,
          4.366,
          4.36,
          4.35,
          4.332,
          4.286,
          4.212,
          4.189,
          4.166,
          4.107,
          4.085,
          4.015,
          3.975,
          3.973,
          3.933,
          3.802,
          3.775,
          3.663,
          3.597,
          3.488,
          3.462,
          3.41,
          3.38,
          3.334,
          3.231,
          3.203,
          3.083,
          2.853
         ]
        }
       ],
       "layout": {
        "coloraxis": {
         "colorbar": {
          "title": {
           "text": "Score"
          }
         },
         "colorscale": [
          [
           0,
           "#0d0887"
          ],
          [
           0.1111111111111111,
           "#46039f"
          ],
          [
           0.2222222222222222,
           "#7201a8"
          ],
          [
           0.3333333333333333,
           "#9c179e"
          ],
          [
           0.4444444444444444,
           "#bd3786"
          ],
          [
           0.5555555555555556,
           "#d8576b"
          ],
          [
           0.6666666666666666,
           "#ed7953"
          ],
          [
           0.7777777777777778,
           "#fb9f3a"
          ],
          [
           0.8888888888888888,
           "#fdca26"
          ],
          [
           1,
           "#f0f921"
          ]
         ]
        },
        "geo": {
         "center": {},
         "domain": {
          "x": [
           0,
           1
          ],
          "y": [
           0,
           1
          ]
         }
        },
        "height": 450,
        "legend": {
         "tracegroupgap": 0
        },
        "margin": {
         "b": 0,
         "l": 0,
         "r": 0,
         "t": 0
        },
        "template": {
         "data": {
          "bar": [
           {
            "error_x": {
             "color": "#2a3f5f"
            },
            "error_y": {
             "color": "#2a3f5f"
            },
            "marker": {
             "line": {
              "color": "#E5ECF6",
              "width": 0.5
             },
             "pattern": {
              "fillmode": "overlay",
              "size": 10,
              "solidity": 0.2
             }
            },
            "type": "bar"
           }
          ],
          "barpolar": [
           {
            "marker": {
             "line": {
              "color": "#E5ECF6",
              "width": 0.5
             },
             "pattern": {
              "fillmode": "overlay",
              "size": 10,
              "solidity": 0.2
             }
            },
            "type": "barpolar"
           }
          ],
          "carpet": [
           {
            "aaxis": {
             "endlinecolor": "#2a3f5f",
             "gridcolor": "white",
             "linecolor": "white",
             "minorgridcolor": "white",
             "startlinecolor": "#2a3f5f"
            },
            "baxis": {
             "endlinecolor": "#2a3f5f",
             "gridcolor": "white",
             "linecolor": "white",
             "minorgridcolor": "white",
             "startlinecolor": "#2a3f5f"
            },
            "type": "carpet"
           }
          ],
          "choropleth": [
           {
            "colorbar": {
             "outlinewidth": 0,
             "ticks": ""
            },
            "type": "choropleth"
           }
          ],
          "contour": [
           {
            "colorbar": {
             "outlinewidth": 0,
             "ticks": ""
            },
            "colorscale": [
             [
              0,
              "#0d0887"
             ],
             [
              0.1111111111111111,
              "#46039f"
             ],
             [
              0.2222222222222222,
              "#7201a8"
             ],
             [
              0.3333333333333333,
              "#9c179e"
             ],
             [
              0.4444444444444444,
              "#bd3786"
             ],
             [
              0.5555555555555556,
              "#d8576b"
             ],
             [
              0.6666666666666666,
              "#ed7953"
             ],
             [
              0.7777777777777778,
              "#fb9f3a"
             ],
             [
              0.8888888888888888,
              "#fdca26"
             ],
             [
              1,
              "#f0f921"
             ]
            ],
            "type": "contour"
           }
          ],
          "contourcarpet": [
           {
            "colorbar": {
             "outlinewidth": 0,
             "ticks": ""
            },
            "type": "contourcarpet"
           }
          ],
          "heatmap": [
           {
            "colorbar": {
             "outlinewidth": 0,
             "ticks": ""
            },
            "colorscale": [
             [
              0,
              "#0d0887"
             ],
             [
              0.1111111111111111,
              "#46039f"
             ],
             [
              0.2222222222222222,
              "#7201a8"
             ],
             [
              0.3333333333333333,
              "#9c179e"
             ],
             [
              0.4444444444444444,
              "#bd3786"
             ],
             [
              0.5555555555555556,
              "#d8576b"
             ],
             [
              0.6666666666666666,
              "#ed7953"
             ],
             [
              0.7777777777777778,
              "#fb9f3a"
             ],
             [
              0.8888888888888888,
              "#fdca26"
             ],
             [
              1,
              "#f0f921"
             ]
            ],
            "type": "heatmap"
           }
          ],
          "heatmapgl": [
           {
            "colorbar": {
             "outlinewidth": 0,
             "ticks": ""
            },
            "colorscale": [
             [
              0,
              "#0d0887"
             ],
             [
              0.1111111111111111,
              "#46039f"
             ],
             [
              0.2222222222222222,
              "#7201a8"
             ],
             [
              0.3333333333333333,
              "#9c179e"
             ],
             [
              0.4444444444444444,
              "#bd3786"
             ],
             [
              0.5555555555555556,
              "#d8576b"
             ],
             [
              0.6666666666666666,
              "#ed7953"
             ],
             [
              0.7777777777777778,
              "#fb9f3a"
             ],
             [
              0.8888888888888888,
              "#fdca26"
             ],
             [
              1,
              "#f0f921"
             ]
            ],
            "type": "heatmapgl"
           }
          ],
          "histogram": [
           {
            "marker": {
             "pattern": {
              "fillmode": "overlay",
              "size": 10,
              "solidity": 0.2
             }
            },
            "type": "histogram"
           }
          ],
          "histogram2d": [
           {
            "colorbar": {
             "outlinewidth": 0,
             "ticks": ""
            },
            "colorscale": [
             [
              0,
              "#0d0887"
             ],
             [
              0.1111111111111111,
              "#46039f"
             ],
             [
              0.2222222222222222,
              "#7201a8"
             ],
             [
              0.3333333333333333,
              "#9c179e"
             ],
             [
              0.4444444444444444,
              "#bd3786"
             ],
             [
              0.5555555555555556,
              "#d8576b"
             ],
             [
              0.6666666666666666,
              "#ed7953"
             ],
             [
              0.7777777777777778,
              "#fb9f3a"
             ],
             [
              0.8888888888888888,
              "#fdca26"
             ],
             [
              1,
              "#f0f921"
             ]
            ],
            "type": "histogram2d"
           }
          ],
          "histogram2dcontour": [
           {
            "colorbar": {
             "outlinewidth": 0,
             "ticks": ""
            },
            "colorscale": [
             [
              0,
              "#0d0887"
             ],
             [
              0.1111111111111111,
              "#46039f"
             ],
             [
              0.2222222222222222,
              "#7201a8"
             ],
             [
              0.3333333333333333,
              "#9c179e"
             ],
             [
              0.4444444444444444,
              "#bd3786"
             ],
             [
              0.5555555555555556,
              "#d8576b"
             ],
             [
              0.6666666666666666,
              "#ed7953"
             ],
             [
              0.7777777777777778,
              "#fb9f3a"
             ],
             [
              0.8888888888888888,
              "#fdca26"
             ],
             [
              1,
              "#f0f921"
             ]
            ],
            "type": "histogram2dcontour"
           }
          ],
          "mesh3d": [
           {
            "colorbar": {
             "outlinewidth": 0,
             "ticks": ""
            },
            "type": "mesh3d"
           }
          ],
          "parcoords": [
           {
            "line": {
             "colorbar": {
              "outlinewidth": 0,
              "ticks": ""
             }
            },
            "type": "parcoords"
           }
          ],
          "pie": [
           {
            "automargin": true,
            "type": "pie"
           }
          ],
          "scatter": [
           {
            "marker": {
             "colorbar": {
              "outlinewidth": 0,
              "ticks": ""
             }
            },
            "type": "scatter"
           }
          ],
          "scatter3d": [
           {
            "line": {
             "colorbar": {
              "outlinewidth": 0,
              "ticks": ""
             }
            },
            "marker": {
             "colorbar": {
              "outlinewidth": 0,
              "ticks": ""
             }
            },
            "type": "scatter3d"
           }
          ],
          "scattercarpet": [
           {
            "marker": {
             "colorbar": {
              "outlinewidth": 0,
              "ticks": ""
             }
            },
            "type": "scattercarpet"
           }
          ],
          "scattergeo": [
           {
            "marker": {
             "colorbar": {
              "outlinewidth": 0,
              "ticks": ""
             }
            },
            "type": "scattergeo"
           }
          ],
          "scattergl": [
           {
            "marker": {
             "colorbar": {
              "outlinewidth": 0,
              "ticks": ""
             }
            },
            "type": "scattergl"
           }
          ],
          "scattermapbox": [
           {
            "marker": {
             "colorbar": {
              "outlinewidth": 0,
              "ticks": ""
             }
            },
            "type": "scattermapbox"
           }
          ],
          "scatterpolar": [
           {
            "marker": {
             "colorbar": {
              "outlinewidth": 0,
              "ticks": ""
             }
            },
            "type": "scatterpolar"
           }
          ],
          "scatterpolargl": [
           {
            "marker": {
             "colorbar": {
              "outlinewidth": 0,
              "ticks": ""
             }
            },
            "type": "scatterpolargl"
           }
          ],
          "scatterternary": [
           {
            "marker": {
             "colorbar": {
              "outlinewidth": 0,
              "ticks": ""
             }
            },
            "type": "scatterternary"
           }
          ],
          "surface": [
           {
            "colorbar": {
             "outlinewidth": 0,
             "ticks": ""
            },
            "colorscale": [
             [
              0,
              "#0d0887"
             ],
             [
              0.1111111111111111,
              "#46039f"
             ],
             [
              0.2222222222222222,
              "#7201a8"
             ],
             [
              0.3333333333333333,
              "#9c179e"
             ],
             [
              0.4444444444444444,
              "#bd3786"
             ],
             [
              0.5555555555555556,
              "#d8576b"
             ],
             [
              0.6666666666666666,
              "#ed7953"
             ],
             [
              0.7777777777777778,
              "#fb9f3a"
             ],
             [
              0.8888888888888888,
              "#fdca26"
             ],
             [
              1,
              "#f0f921"
             ]
            ],
            "type": "surface"
           }
          ],
          "table": [
           {
            "cells": {
             "fill": {
              "color": "#EBF0F8"
             },
             "line": {
              "color": "white"
             }
            },
            "header": {
             "fill": {
              "color": "#C8D4E3"
             },
             "line": {
              "color": "white"
             }
            },
            "type": "table"
           }
          ]
         },
         "layout": {
          "annotationdefaults": {
           "arrowcolor": "#2a3f5f",
           "arrowhead": 0,
           "arrowwidth": 1
          },
          "autotypenumbers": "strict",
          "coloraxis": {
           "colorbar": {
            "outlinewidth": 0,
            "ticks": ""
           }
          },
          "colorscale": {
           "diverging": [
            [
             0,
             "#8e0152"
            ],
            [
             0.1,
             "#c51b7d"
            ],
            [
             0.2,
             "#de77ae"
            ],
            [
             0.3,
             "#f1b6da"
            ],
            [
             0.4,
             "#fde0ef"
            ],
            [
             0.5,
             "#f7f7f7"
            ],
            [
             0.6,
             "#e6f5d0"
            ],
            [
             0.7,
             "#b8e186"
            ],
            [
             0.8,
             "#7fbc41"
            ],
            [
             0.9,
             "#4d9221"
            ],
            [
             1,
             "#276419"
            ]
           ],
           "sequential": [
            [
             0,
             "#0d0887"
            ],
            [
             0.1111111111111111,
             "#46039f"
            ],
            [
             0.2222222222222222,
             "#7201a8"
            ],
            [
             0.3333333333333333,
             "#9c179e"
            ],
            [
             0.4444444444444444,
             "#bd3786"
            ],
            [
             0.5555555555555556,
             "#d8576b"
            ],
            [
             0.6666666666666666,
             "#ed7953"
            ],
            [
             0.7777777777777778,
             "#fb9f3a"
            ],
            [
             0.8888888888888888,
             "#fdca26"
            ],
            [
             1,
             "#f0f921"
            ]
           ],
           "sequentialminus": [
            [
             0,
             "#0d0887"
            ],
            [
             0.1111111111111111,
             "#46039f"
            ],
            [
             0.2222222222222222,
             "#7201a8"
            ],
            [
             0.3333333333333333,
             "#9c179e"
            ],
            [
             0.4444444444444444,
             "#bd3786"
            ],
            [
             0.5555555555555556,
             "#d8576b"
            ],
            [
             0.6666666666666666,
             "#ed7953"
            ],
            [
             0.7777777777777778,
             "#fb9f3a"
            ],
            [
             0.8888888888888888,
             "#fdca26"
            ],
            [
             1,
             "#f0f921"
            ]
           ]
          },
          "colorway": [
           "#636efa",
           "#EF553B",
           "#00cc96",
           "#ab63fa",
           "#FFA15A",
           "#19d3f3",
           "#FF6692",
           "#B6E880",
           "#FF97FF",
           "#FECB52"
          ],
          "font": {
           "color": "#2a3f5f"
          },
          "geo": {
           "bgcolor": "white",
           "lakecolor": "white",
           "landcolor": "#E5ECF6",
           "showlakes": true,
           "showland": true,
           "subunitcolor": "white"
          },
          "hoverlabel": {
           "align": "left"
          },
          "hovermode": "closest",
          "mapbox": {
           "style": "light"
          },
          "paper_bgcolor": "white",
          "plot_bgcolor": "#E5ECF6",
          "polar": {
           "angularaxis": {
            "gridcolor": "white",
            "linecolor": "white",
            "ticks": ""
           },
           "bgcolor": "#E5ECF6",
           "radialaxis": {
            "gridcolor": "white",
            "linecolor": "white",
            "ticks": ""
           }
          },
          "scene": {
           "xaxis": {
            "backgroundcolor": "#E5ECF6",
            "gridcolor": "white",
            "gridwidth": 2,
            "linecolor": "white",
            "showbackground": true,
            "ticks": "",
            "zerolinecolor": "white"
           },
           "yaxis": {
            "backgroundcolor": "#E5ECF6",
            "gridcolor": "white",
            "gridwidth": 2,
            "linecolor": "white",
            "showbackground": true,
            "ticks": "",
            "zerolinecolor": "white"
           },
           "zaxis": {
            "backgroundcolor": "#E5ECF6",
            "gridcolor": "white",
            "gridwidth": 2,
            "linecolor": "white",
            "showbackground": true,
            "ticks": "",
            "zerolinecolor": "white"
           }
          },
          "shapedefaults": {
           "line": {
            "color": "#2a3f5f"
           }
          },
          "ternary": {
           "aaxis": {
            "gridcolor": "white",
            "linecolor": "white",
            "ticks": ""
           },
           "baxis": {
            "gridcolor": "white",
            "linecolor": "white",
            "ticks": ""
           },
           "bgcolor": "#E5ECF6",
           "caxis": {
            "gridcolor": "white",
            "linecolor": "white",
            "ticks": ""
           }
          },
          "title": {
           "x": 0.05
          },
          "xaxis": {
           "automargin": true,
           "gridcolor": "white",
           "linecolor": "white",
           "ticks": "",
           "title": {
            "standoff": 15
           },
           "zerolinecolor": "white",
           "zerolinewidth": 2
          },
          "yaxis": {
           "automargin": true,
           "gridcolor": "white",
           "linecolor": "white",
           "ticks": "",
           "title": {
            "standoff": 15
           },
           "zerolinecolor": "white",
           "zerolinewidth": 2
          }
         }
        },
        "width": 960
       }
      },
      "image/png": "[encoded data removed]",
      "text/html": [
       "<div>                            <div id=\"76f0bc67-ec62-4451-bff5-84e60eadbcbe\" class=\"plotly-graph-div\" style=\"height:450px; width:960px;\"></div>            <script type=\"text/javascript\">                require([\"plotly\"], function(Plotly) {                    window.PLOTLYENV=window.PLOTLYENV || {};                                    if (document.getElementById(\"76f0bc67-ec62-4451-bff5-84e60eadbcbe\")) {                    Plotly.newPlot(                        \"76f0bc67-ec62-4451-bff5-84e60eadbcbe\",                        [{\"coloraxis\":\"coloraxis\",\"customdata\":[[\"FINLAND\",\"1\"],[\"DENMARK\",\"2\"],[\"NORWAY\",\"3\"],[\"ICELAND\",\"4\"],[\"NETHERLANDS\",\"5\"],[\"SWITZERLAND\",\"6\"],[\"SWEDEN\",\"7\"],[\"NEW ZEALAND\",\"8\"],[\"CANADA\",\"9\"],[\"AUSTRIA\",\"10\"],[\"AUSTRALIA\",\"11\"],[\"COSTA RICA\",\"12\"],[\"ISRAEL\",\"13\"],[\"LUXEMBOURG\",\"14\"],[\"UNITED KINGDOM\",\"15\"],[\"IRELAND\",\"16\"],[\"GERMANY\",\"17\"],[\"BELGIUM\",\"18\"],[\"UNITED STATES\",\"19\"],[\"CZECH REPUBLIC\",\"20\"],[\"UNITED ARAB EMIRATES\",\"21\"],[\"MALTA\",\"22\"],[\"MEXICO\",\"23\"],[\"FRANCE\",\"24\"],[\"TAIWAN\",\"25\"],[\"CHILE\",\"26\"],[\"GUATEMALA\",\"27\"],[\"SAUDI ARABIA\",\"28\"],[\"QATAR\",\"29\"],[\"SPAIN\",\"30\"],[\"PANAMA\",\"31\"],[\"BRAZIL\",\"32\"],[\"URUGUAY\",\"33\"],[\"SINGAPORE\",\"34\"],[\"EL SALVADOR\",\"35\"],[\"ITALY\",\"36\"],[\"BAHRAIN\",\"37\"],[\"SLOVAKIA\",\"38\"],[\"TRINIDAD & TOBAGO\",\"39\"],[\"POLAND\",\"40\"],[\"UZBEKISTAN\",\"41\"],[\"LITHUANIA\",\"42\"],[\"COLOMBIA\",\"43\"],[\"SLOVENIA\",\"44\"],[\"NICARAGUA\",\"45\"],[\"KOSOVO\",\"46\"],[\"ARGENTINA\",\"47\"],[\"ROMANIA\",\"48\"],[\"CYPRUS\",\"49\"],[\"ECUADOR\",\"50\"],[\"KUWAIT\",\"51\"],[\"THAILAND\",\"52\"],[\"LATVIA\",\"53\"],[\"SOUTH KOREA\",\"54\"],[\"ESTONIA\",\"55\"],[\"JAMAICA\",\"56\"],[\"MAURITIUS\",\"57\"],[\"JAPAN\",\"58\"],[\"HONDURAS\",\"59\"],[\"KAZAKHSTAN\",\"60\"],[\"BOLIVIA\",\"61\"],[\"HUNGARY\",\"62\"],[\"PARAGUAY\",\"63\"],[\"NORTHERN CYPRUS\",\"64\"],[\"PERU\",\"65\"],[\"PORTUGAL\",\"66\"],[\"PAKISTAN\",\"67\"],[\"RUSSIA\",\"68\"],[\"PHILIPPINES\",\"69\"],[\"SERBIA\",\"70\"],[\"MOLDOVA\",\"71\"],[\"LIBYA\",\"72\"],[\"MONTENEGRO\",\"73\"],[\"TAJIKISTAN\",\"74\"],[\"CROATIA\",\"75\"],[\"HONG KONG\",\"76\"],[\"DOMINICAN REPUBLIC\",\"77\"],[\"BOSNIA AND HERZEGOVINA\",\"78\"],[\"TURKEY\",\"79\"],[\"MALAYSIA\",\"80\"],[\"BELARUS\",\"81\"],[\"GREECE\",\"82\"],[\"MONGOLIA\",\"83\"],[\"NORTH MACEDONIA\",\"84\"],[\"NIGERIA\",\"85\"],[\"KYRGYZSTAN\",\"86\"],[\"TURKMENISTAN\",\"87\"],[\"ALGERIA\",\"88\"],[\"MOROCCO\",\"89\"],[\"AZERBAIJAN\",\"90\"],[\"LEBANON\",\"91\"],[\"INDONESIA\",\"92\"],[\"CHINA\",\"93\"],[\"VIETNAM\",\"94\"],[\"BHUTAN\",\"95\"],[\"CAMEROON\",\"96\"],[\"BULGARIA\",\"97\"],[\"GHANA\",\"98\"],[\"IVORY COAST\",\"99\"],[\"NEPAL\",\"100\"],[\"JORDAN\",\"101\"],[\"BENIN\",\"102\"],[\"CONGO (BRAZZAVILLE)\",\"103\"],[\"GABON\",\"104\"],[\"LAOS\",\"105\"],[\"SOUTH AFRICA\",\"106\"],[\"ALBANIA\",\"107\"],[\"VENEZUELA\",\"108\"],[\"CAMBODIA\",\"109\"],[\"PALESTINIAN TERRITORIES\",\"110\"],[\"SENEGAL\",\"111\"],[\"SOMALIA\",\"112\"],[\"NAMIBIA\",\"113\"],[\"NIGER\",\"114\"],[\"BURKINA FASO\",\"115\"],[\"ARMENIA\",\"116\"],[\"IRAN\",\"117\"],[\"GUINEA\",\"118\"],[\"GEORGIA\",\"119\"],[\"GAMBIA\",\"120\"],[\"KENYA\",\"121\"],[\"MAURITANIA\",\"122\"],[\"MOZAMBIQUE\",\"123\"],[\"TUNISIA\",\"124\"],[\"BANGLADESH\",\"125\"],[\"IRAQ\",\"126\"],[\"CONGO (KINSHASA)\",\"127\"],[\"MALI\",\"128\"],[\"SIERRA LEONE\",\"129\"],[\"SRI LANKA\",\"130\"],[\"MYANMAR\",\"131\"],[\"CHAD\",\"132\"],[\"UKRAINE\",\"133\"],[\"ETHIOPIA\",\"134\"],[\"SWAZILAND\",\"135\"],[\"UGANDA\",\"136\"],[\"EGYPT\",\"137\"],[\"ZAMBIA\",\"138\"],[\"TOGO\",\"139\"],[\"INDIA\",\"140\"],[\"LIBERIA\",\"141\"],[\"COMOROS\",\"142\"],[\"MADAGASCAR\",\"143\"],[\"LESOTHO\",\"144\"],[\"BURUNDI\",\"145\"],[\"ZIMBABWE\",\"146\"],[\"HAITI\",\"147\"],[\"BOTSWANA\",\"148\"],[\"SYRIA\",\"149\"],[\"MALAWI\",\"150\"],[\"YEMEN\",\"151\"],[\"RWANDA\",\"152\"],[\"TANZANIA\",\"153\"],[\"AFGHANISTAN\",\"154\"],[\"CENTRAL AFRICAN REPUBLIC\",\"155\"],[\"SOUTH SUDAN\",\"156\"]],\"geo\":\"geo\",\"hovertemplate\":\"<b>%{hovertext}</b><br><br>Overall rank=%{customdata[1]}<br>Score=%{z}<extra></extra>\",\"hovertext\":[\"FINLAND\",\"DENMARK\",\"NORWAY\",\"ICELAND\",\"NETHERLANDS\",\"SWITZERLAND\",\"SWEDEN\",\"NEW ZEALAND\",\"CANADA\",\"AUSTRIA\",\"AUSTRALIA\",\"COSTA RICA\",\"ISRAEL\",\"LUXEMBOURG\",\"UNITED KINGDOM\",\"IRELAND\",\"GERMANY\",\"BELGIUM\",\"UNITED STATES\",\"CZECH REPUBLIC\",\"UNITED ARAB EMIRATES\",\"MALTA\",\"MEXICO\",\"FRANCE\",\"TAIWAN\",\"CHILE\",\"GUATEMALA\",\"SAUDI ARABIA\",\"QATAR\",\"SPAIN\",\"PANAMA\",\"BRAZIL\",\"URUGUAY\",\"SINGAPORE\",\"EL SALVADOR\",\"ITALY\",\"BAHRAIN\",\"SLOVAKIA\",\"TRINIDAD & TOBAGO\",\"POLAND\",\"UZBEKISTAN\",\"LITHUANIA\",\"COLOMBIA\",\"SLOVENIA\",\"NICARAGUA\",\"KOSOVO\",\"ARGENTINA\",\"ROMANIA\",\"CYPRUS\",\"ECUADOR\",\"KUWAIT\",\"THAILAND\",\"LATVIA\",\"SOUTH KOREA\",\"ESTONIA\",\"JAMAICA\",\"MAURITIUS\",\"JAPAN\",\"HONDURAS\",\"KAZAKHSTAN\",\"BOLIVIA\",\"HUNGARY\",\"PARAGUAY\",\"NORTHERN CYPRUS\",\"PERU\",\"PORTUGAL\",\"PAKISTAN\",\"RUSSIA\",\"PHILIPPINES\",\"SERBIA\",\"MOLDOVA\",\"LIBYA\",\"MONTENEGRO\",\"TAJIKISTAN\",\"CROATIA\",\"HONG KONG\",\"DOMINICAN REPUBLIC\",\"BOSNIA AND HERZEGOVINA\",\"TURKEY\",\"MALAYSIA\",\"BELARUS\",\"GREECE\",\"MONGOLIA\",\"NORTH MACEDONIA\",\"NIGERIA\",\"KYRGYZSTAN\",\"TURKMENISTAN\",\"ALGERIA\",\"MOROCCO\",\"AZERBAIJAN\",\"LEBANON\",\"INDONESIA\",\"CHINA\",\"VIETNAM\",\"BHUTAN\",\"CAMEROON\",\"BULGARIA\",\"GHANA\",\"IVORY COAST\",\"NEPAL\",\"JORDAN\",\"BENIN\",\"CONGO (BRAZZAVILLE)\",\"GABON\",\"LAOS\",\"SOUTH AFRICA\",\"ALBANIA\",\"VENEZUELA\",\"CAMBODIA\",\"PALESTINIAN TERRITORIES\",\"SENEGAL\",\"SOMALIA\",\"NAMIBIA\",\"NIGER\",\"BURKINA FASO\",\"ARMENIA\",\"IRAN\",\"GUINEA\",\"GEORGIA\",\"GAMBIA\",\"KENYA\",\"MAURITANIA\",\"MOZAMBIQUE\",\"TUNISIA\",\"BANGLADESH\",\"IRAQ\",\"CONGO (KINSHASA)\",\"MALI\",\"SIERRA LEONE\",\"SRI LANKA\",\"MYANMAR\",\"CHAD\",\"UKRAINE\",\"ETHIOPIA\",\"SWAZILAND\",\"UGANDA\",\"EGYPT\",\"ZAMBIA\",\"TOGO\",\"INDIA\",\"LIBERIA\",\"COMOROS\",\"MADAGASCAR\",\"LESOTHO\",\"BURUNDI\",\"ZIMBABWE\",\"HAITI\",\"BOTSWANA\",\"SYRIA\",\"MALAWI\",\"YEMEN\",\"RWANDA\",\"TANZANIA\",\"AFGHANISTAN\",\"CENTRAL AFRICAN REPUBLIC\",\"SOUTH SUDAN\"],\"locationmode\":\"country names\",\"locations\":[\"FINLAND\",\"DENMARK\",\"NORWAY\",\"ICELAND\",\"NETHERLANDS\",\"SWITZERLAND\",\"SWEDEN\",\"NEW ZEALAND\",\"CANADA\",\"AUSTRIA\",\"AUSTRALIA\",\"COSTA RICA\",\"ISRAEL\",\"LUXEMBOURG\",\"UNITED KINGDOM\",\"IRELAND\",\"GERMANY\",\"BELGIUM\",\"UNITED STATES\",\"CZECH REPUBLIC\",\"UNITED ARAB EMIRATES\",\"MALTA\",\"MEXICO\",\"FRANCE\",\"TAIWAN\",\"CHILE\",\"GUATEMALA\",\"SAUDI ARABIA\",\"QATAR\",\"SPAIN\",\"PANAMA\",\"BRAZIL\",\"URUGUAY\",\"SINGAPORE\",\"EL SALVADOR\",\"ITALY\",\"BAHRAIN\",\"SLOVAKIA\",\"TRINIDAD & TOBAGO\",\"POLAND\",\"UZBEKISTAN\",\"LITHUANIA\",\"COLOMBIA\",\"SLOVENIA\",\"NICARAGUA\",\"KOSOVO\",\"ARGENTINA\",\"ROMANIA\",\"CYPRUS\",\"ECUADOR\",\"KUWAIT\",\"THAILAND\",\"LATVIA\",\"SOUTH KOREA\",\"ESTONIA\",\"JAMAICA\",\"MAURITIUS\",\"JAPAN\",\"HONDURAS\",\"KAZAKHSTAN\",\"BOLIVIA\",\"HUNGARY\",\"PARAGUAY\",\"NORTHERN CYPRUS\",\"PERU\",\"PORTUGAL\",\"PAKISTAN\",\"RUSSIA\",\"PHILIPPINES\",\"SERBIA\",\"MOLDOVA\",\"LIBYA\",\"MONTENEGRO\",\"TAJIKISTAN\",\"CROATIA\",\"HONG KONG\",\"DOMINICAN REPUBLIC\",\"BOSNIA AND HERZEGOVINA\",\"TURKEY\",\"MALAYSIA\",\"BELARUS\",\"GREECE\",\"MONGOLIA\",\"NORTH MACEDONIA\",\"NIGERIA\",\"KYRGYZSTAN\",\"TURKMENISTAN\",\"ALGERIA\",\"MOROCCO\",\"AZERBAIJAN\",\"LEBANON\",\"INDONESIA\",\"CHINA\",\"VIETNAM\",\"BHUTAN\",\"CAMEROON\",\"BULGARIA\",\"GHANA\",\"IVORY COAST\",\"NEPAL\",\"JORDAN\",\"BENIN\",\"CONGO (BRAZZAVILLE)\",\"GABON\",\"LAOS\",\"SOUTH AFRICA\",\"ALBANIA\",\"VENEZUELA\",\"CAMBODIA\",\"PALESTINIAN TERRITORIES\",\"SENEGAL\",\"SOMALIA\",\"NAMIBIA\",\"NIGER\",\"BURKINA FASO\",\"ARMENIA\",\"IRAN\",\"GUINEA\",\"GEORGIA\",\"GAMBIA\",\"KENYA\",\"MAURITANIA\",\"MOZAMBIQUE\",\"TUNISIA\",\"BANGLADESH\",\"IRAQ\",\"CONGO (KINSHASA)\",\"MALI\",\"SIERRA LEONE\",\"SRI LANKA\",\"MYANMAR\",\"CHAD\",\"UKRAINE\",\"ETHIOPIA\",\"SWAZILAND\",\"UGANDA\",\"EGYPT\",\"ZAMBIA\",\"TOGO\",\"INDIA\",\"LIBERIA\",\"COMOROS\",\"MADAGASCAR\",\"LESOTHO\",\"BURUNDI\",\"ZIMBABWE\",\"HAITI\",\"BOTSWANA\",\"SYRIA\",\"MALAWI\",\"YEMEN\",\"RWANDA\",\"TANZANIA\",\"AFGHANISTAN\",\"CENTRAL AFRICAN REPUBLIC\",\"SOUTH SUDAN\"],\"name\":\"\",\"z\":[7.769,7.6,7.554,7.494,7.488,7.48,7.343,7.307,7.278,7.246,7.228,7.167,7.139,7.09,7.054,7.021,6.985,6.923,6.892,6.852,6.825,6.726,6.595,6.592,6.446,6.444,6.436,6.375,6.374,6.354,6.321,6.3,6.293,6.262,6.253,6.223,6.199,6.198,6.192,6.182,6.174,6.149,6.125,6.118,6.105,6.1,6.086,6.07,6.046,6.028,6.021,6.008,5.94,5.895,5.893,5.89,5.888,5.886,5.86,5.809,5.779,5.758,5.743,5.718,5.697,5.693,5.653,5.648,5.631,5.603,5.529,5.525,5.523,5.467,5.432,5.43,5.425,5.386,5.373,5.339,5.323,5.287,5.285,5.274,5.265,5.261,5.247,5.211,5.208,5.208,5.197,5.192,5.191,5.175,5.082,5.044,5.011,4.996,4.944,4.913,4.906,4.883,4.812,4.799,4.796,4.722,4.719,4.707,4.7,4.696,4.681,4.668,4.639,4.628,4.587,4.559,4.548,4.534,4.519,4.516,4.509,4.49,4.466,4.461,4.456,4.437,4.418,4.39,4.374,4.366,4.36,4.35,4.332,4.286,4.212,4.189,4.166,4.107,4.085,4.015,3.975,3.973,3.933,3.802,3.775,3.663,3.597,3.488,3.462,3.41,3.38,3.334,3.231,3.203,3.083,2.853],\"type\":\"choropleth\"}],                        {\"template\":{\"data\":{\"bar\":[{\"error_x\":{\"color\":\"#2a3f5f\"},\"error_y\":{\"color\":\"#2a3f5f\"},\"marker\":{\"line\":{\"color\":\"#E5ECF6\",\"width\":0.5},\"pattern\":{\"fillmode\":\"overlay\",\"size\":10,\"solidity\":0.2}},\"type\":\"bar\"}],\"barpolar\":[{\"marker\":{\"line\":{\"color\":\"#E5ECF6\",\"width\":0.5},\"pattern\":{\"fillmode\":\"overlay\",\"size\":10,\"solidity\":0.2}},\"type\":\"barpolar\"}],\"carpet\":[{\"aaxis\":{\"endlinecolor\":\"#2a3f5f\",\"gridcolor\":\"white\",\"linecolor\":\"white\",\"minorgridcolor\":\"white\",\"startlinecolor\":\"#2a3f5f\"},\"baxis\":{\"endlinecolor\":\"#2a3f5f\",\"gridcolor\":\"white\",\"linecolor\":\"white\",\"minorgridcolor\":\"white\",\"startlinecolor\":\"#2a3f5f\"},\"type\":\"carpet\"}],\"choropleth\":[{\"colorbar\":{\"outlinewidth\":0,\"ticks\":\"\"},\"type\":\"choropleth\"}],\"contour\":[{\"colorbar\":{\"outlinewidth\":0,\"ticks\":\"\"},\"colorscale\":[[0.0,\"#0d0887\"],[0.1111111111111111,\"#46039f\"],[0.2222222222222222,\"#7201a8\"],[0.3333333333333333,\"#9c179e\"],[0.4444444444444444,\"#bd3786\"],[0.5555555555555556,\"#d8576b\"],[0.6666666666666666,\"#ed7953\"],[0.7777777777777778,\"#fb9f3a\"],[0.8888888888888888,\"#fdca26\"],[1.0,\"#f0f921\"]],\"type\":\"contour\"}],\"contourcarpet\":[{\"colorbar\":{\"outlinewidth\":0,\"ticks\":\"\"},\"type\":\"contourcarpet\"}],\"heatmap\":[{\"colorbar\":{\"outlinewidth\":0,\"ticks\":\"\"},\"colorscale\":[[0.0,\"#0d0887\"],[0.1111111111111111,\"#46039f\"],[0.2222222222222222,\"#7201a8\"],[0.3333333333333333,\"#9c179e\"],[0.4444444444444444,\"#bd3786\"],[0.5555555555555556,\"#d8576b\"],[0.6666666666666666,\"#ed7953\"],[0.7777777777777778,\"#fb9f3a\"],[0.8888888888888888,\"#fdca26\"],[1.0,\"#f0f921\"]],\"type\":\"heatmap\"}],\"heatmapgl\":[{\"colorbar\":{\"outlinewidth\":0,\"ticks\":\"\"},\"colorscale\":[[0.0,\"#0d0887\"],[0.1111111111111111,\"#46039f\"],[0.2222222222222222,\"#7201a8\"],[0.3333333333333333,\"#9c179e\"],[0.4444444444444444,\"#bd3786\"],[0.5555555555555556,\"#d8576b\"],[0.6666666666666666,\"#ed7953\"],[0.7777777777777778,\"#fb9f3a\"],[0.8888888888888888,\"#fdca26\"],[1.0,\"#f0f921\"]],\"type\":\"heatmapgl\"}],\"histogram\":[{\"marker\":{\"pattern\":{\"fillmode\":\"overlay\",\"size\":10,\"solidity\":0.2}},\"type\":\"histogram\"}],\"histogram2d\":[{\"colorbar\":{\"outlinewidth\":0,\"ticks\":\"\"},\"colorscale\":[[0.0,\"#0d0887\"],[0.1111111111111111,\"#46039f\"],[0.2222222222222222,\"#7201a8\"],[0.3333333333333333,\"#9c179e\"],[0.4444444444444444,\"#bd3786\"],[0.5555555555555556,\"#d8576b\"],[0.6666666666666666,\"#ed7953\"],[0.7777777777777778,\"#fb9f3a\"],[0.8888888888888888,\"#fdca26\"],[1.0,\"#f0f921\"]],\"type\":\"histogram2d\"}],\"histogram2dcontour\":[{\"colorbar\":{\"outlinewidth\":0,\"ticks\":\"\"},\"colorscale\":[[0.0,\"#0d0887\"],[0.1111111111111111,\"#46039f\"],[0.2222222222222222,\"#7201a8\"],[0.3333333333333333,\"#9c179e\"],[0.4444444444444444,\"#bd3786\"],[0.5555555555555556,\"#d8576b\"],[0.6666666666666666,\"#ed7953\"],[0.7777777777777778,\"#fb9f3a\"],[0.8888888888888888,\"#fdca26\"],[1.0,\"#f0f921\"]],\"type\":\"histogram2dcontour\"}],\"mesh3d\":[{\"colorbar\":{\"outlinewidth\":0,\"ticks\":\"\"},\"type\":\"mesh3d\"}],\"parcoords\":[{\"line\":{\"colorbar\":{\"outlinewidth\":0,\"ticks\":\"\"}},\"type\":\"parcoords\"}],\"pie\":[{\"automargin\":true,\"type\":\"pie\"}],\"scatter\":[{\"marker\":{\"colorbar\":{\"outlinewidth\":0,\"ticks\":\"\"}},\"type\":\"scatter\"}],\"scatter3d\":[{\"line\":{\"colorbar\":{\"outlinewidth\":0,\"ticks\":\"\"}},\"marker\":{\"colorbar\":{\"outlinewidth\":0,\"ticks\":\"\"}},\"type\":\"scatter3d\"}],\"scattercarpet\":[{\"marker\":{\"colorbar\":{\"outlinewidth\":0,\"ticks\":\"\"}},\"type\":\"scattercarpet\"}],\"scattergeo\":[{\"marker\":{\"colorbar\":{\"outlinewidth\":0,\"ticks\":\"\"}},\"type\":\"scattergeo\"}],\"scattergl\":[{\"marker\":{\"colorbar\":{\"outlinewidth\":0,\"ticks\":\"\"}},\"type\":\"scattergl\"}],\"scattermapbox\":[{\"marker\":{\"colorbar\":{\"outlinewidth\":0,\"ticks\":\"\"}},\"type\":\"scattermapbox\"}],\"scatterpolar\":[{\"marker\":{\"colorbar\":{\"outlinewidth\":0,\"ticks\":\"\"}},\"type\":\"scatterpolar\"}],\"scatterpolargl\":[{\"marker\":{\"colorbar\":{\"outlinewidth\":0,\"ticks\":\"\"}},\"type\":\"scatterpolargl\"}],\"scatterternary\":[{\"marker\":{\"colorbar\":{\"outlinewidth\":0,\"ticks\":\"\"}},\"type\":\"scatterternary\"}],\"surface\":[{\"colorbar\":{\"outlinewidth\":0,\"ticks\":\"\"},\"colorscale\":[[0.0,\"#0d0887\"],[0.1111111111111111,\"#46039f\"],[0.2222222222222222,\"#7201a8\"],[0.3333333333333333,\"#9c179e\"],[0.4444444444444444,\"#bd3786\"],[0.5555555555555556,\"#d8576b\"],[0.6666666666666666,\"#ed7953\"],[0.7777777777777778,\"#fb9f3a\"],[0.8888888888888888,\"#fdca26\"],[1.0,\"#f0f921\"]],\"type\":\"surface\"}],\"table\":[{\"cells\":{\"fill\":{\"color\":\"#EBF0F8\"},\"line\":{\"color\":\"white\"}},\"header\":{\"fill\":{\"color\":\"#C8D4E3\"},\"line\":{\"color\":\"white\"}},\"type\":\"table\"}]},\"layout\":{\"annotationdefaults\":{\"arrowcolor\":\"#2a3f5f\",\"arrowhead\":0,\"arrowwidth\":1},\"autotypenumbers\":\"strict\",\"coloraxis\":{\"colorbar\":{\"outlinewidth\":0,\"ticks\":\"\"}},\"colorscale\":{\"diverging\":[[0,\"#8e0152\"],[0.1,\"#c51b7d\"],[0.2,\"#de77ae\"],[0.3,\"#f1b6da\"],[0.4,\"#fde0ef\"],[0.5,\"#f7f7f7\"],[0.6,\"#e6f5d0\"],[0.7,\"#b8e186\"],[0.8,\"#7fbc41\"],[0.9,\"#4d9221\"],[1,\"#276419\"]],\"sequential\":[[0.0,\"#0d0887\"],[0.1111111111111111,\"#46039f\"],[0.2222222222222222,\"#7201a8\"],[0.3333333333333333,\"#9c179e\"],[0.4444444444444444,\"#bd3786\"],[0.5555555555555556,\"#d8576b\"],[0.6666666666666666,\"#ed7953\"],[0.7777777777777778,\"#fb9f3a\"],[0.8888888888888888,\"#fdca26\"],[1.0,\"#f0f921\"]],\"sequentialminus\":[[0.0,\"#0d0887\"],[0.1111111111111111,\"#46039f\"],[0.2222222222222222,\"#7201a8\"],[0.3333333333333333,\"#9c179e\"],[0.4444444444444444,\"#bd3786\"],[0.5555555555555556,\"#d8576b\"],[0.6666666666666666,\"#ed7953\"],[0.7777777777777778,\"#fb9f3a\"],[0.8888888888888888,\"#fdca26\"],[1.0,\"#f0f921\"]]},\"colorway\":[\"#636efa\",\"#EF553B\",\"#00cc96\",\"#ab63fa\",\"#FFA15A\",\"#19d3f3\",\"#FF6692\",\"#B6E880\",\"#FF97FF\",\"#FECB52\"],\"font\":{\"color\":\"#2a3f5f\"},\"geo\":{\"bgcolor\":\"white\",\"lakecolor\":\"white\",\"landcolor\":\"#E5ECF6\",\"showlakes\":true,\"showland\":true,\"subunitcolor\":\"white\"},\"hoverlabel\":{\"align\":\"left\"},\"hovermode\":\"closest\",\"mapbox\":{\"style\":\"light\"},\"paper_bgcolor\":\"white\",\"plot_bgcolor\":\"#E5ECF6\",\"polar\":{\"angularaxis\":{\"gridcolor\":\"white\",\"linecolor\":\"white\",\"ticks\":\"\"},\"bgcolor\":\"#E5ECF6\",\"radialaxis\":{\"gridcolor\":\"white\",\"linecolor\":\"white\",\"ticks\":\"\"}},\"scene\":{\"xaxis\":{\"backgroundcolor\":\"#E5ECF6\",\"gridcolor\":\"white\",\"gridwidth\":2,\"linecolor\":\"white\",\"showbackground\":true,\"ticks\":\"\",\"zerolinecolor\":\"white\"},\"yaxis\":{\"backgroundcolor\":\"#E5ECF6\",\"gridcolor\":\"white\",\"gridwidth\":2,\"linecolor\":\"white\",\"showbackground\":true,\"ticks\":\"\",\"zerolinecolor\":\"white\"},\"zaxis\":{\"backgroundcolor\":\"#E5ECF6\",\"gridcolor\":\"white\",\"gridwidth\":2,\"linecolor\":\"white\",\"showbackground\":true,\"ticks\":\"\",\"zerolinecolor\":\"white\"}},\"shapedefaults\":{\"line\":{\"color\":\"#2a3f5f\"}},\"ternary\":{\"aaxis\":{\"gridcolor\":\"white\",\"linecolor\":\"white\",\"ticks\":\"\"},\"baxis\":{\"gridcolor\":\"white\",\"linecolor\":\"white\",\"ticks\":\"\"},\"bgcolor\":\"#E5ECF6\",\"caxis\":{\"gridcolor\":\"white\",\"linecolor\":\"white\",\"ticks\":\"\"}},\"title\":{\"x\":0.05},\"xaxis\":{\"automargin\":true,\"gridcolor\":\"white\",\"linecolor\":\"white\",\"ticks\":\"\",\"title\":{\"standoff\":15},\"zerolinecolor\":\"white\",\"zerolinewidth\":2},\"yaxis\":{\"automargin\":true,\"gridcolor\":\"white\",\"linecolor\":\"white\",\"ticks\":\"\",\"title\":{\"standoff\":15},\"zerolinecolor\":\"white\",\"zerolinewidth\":2}}},\"geo\":{\"domain\":{\"x\":[0.0,1.0],\"y\":[0.0,1.0]},\"center\":{}},\"coloraxis\":{\"colorbar\":{\"title\":{\"text\":\"Score\"}},\"colorscale\":[[0.0,\"#0d0887\"],[0.1111111111111111,\"#46039f\"],[0.2222222222222222,\"#7201a8\"],[0.3333333333333333,\"#9c179e\"],[0.4444444444444444,\"#bd3786\"],[0.5555555555555556,\"#d8576b\"],[0.6666666666666666,\"#ed7953\"],[0.7777777777777778,\"#fb9f3a\"],[0.8888888888888888,\"#fdca26\"],[1.0,\"#f0f921\"]]},\"legend\":{\"tracegroupgap\":0},\"margin\":{\"t\":0,\"r\":0,\"l\":0,\"b\":0},\"width\":960,\"height\":450},                        {\"responsive\": true}                    ).then(function(){\n",
       "                            \n",
       "var gd = document.getElementById('76f0bc67-ec62-4451-bff5-84e60eadbcbe');\n",
       "var x = new MutationObserver(function (mutations, observer) {{\n",
       "        var display = window.getComputedStyle(gd).display;\n",
       "        if (!display || display === 'none') {{\n",
       "            console.log([gd, 'removed!']);\n",
       "            Plotly.purge(gd);\n",
       "            observer.disconnect();\n",
       "        }}\n",
       "}});\n",
       "\n",
       "// Listen for the removal of the full notebook cells\n",
       "var notebookContainer = gd.closest('#notebook-container');\n",
       "if (notebookContainer) {{\n",
       "    x.observe(notebookContainer, {childList: true});\n",
       "}}\n",
       "\n",
       "// Listen for the clearing of the current output cell\n",
       "var outputEl = gd.closest('.output');\n",
       "if (outputEl) {{\n",
       "    x.observe(outputEl, {childList: true});\n",
       "}}\n",
       "\n",
       "                        })                };                });            </script>        </div>"
      ]
     },
     "metadata": {},
     "output_type": "display_data"
    }
   ],
   "source": [
    "import plotly.offline as py\n",
    "py.init_notebook_mode(connected=True)\n",
    "import plotly.express as px\n",
    "\n",
    "fig = px.choropleth(happiness, locations='Country or region',\n",
    "                    locationmode = \"country names\",\n",
    "                    color=\"Score\",\n",
    "                    hover_name = 'Country or region',\n",
    "                    hover_data={'Country or region':False,\n",
    "                                'Overall rank': True\n",
    "                               }\n",
    "                   )\n",
    "fig.update_layout(width=960, height=450, margin={\"r\":0,\"t\":0,\"l\":0,\"b\":0})\n",
    "fig.show()"
   ]
  },
  {
   "cell_type": "markdown",
   "id": "c9dc860e-ec14-4eee-bf19-e3daf4cfeae4",
   "metadata": {},
   "source": [
    "We can see how the Nordic countries compared to other countries in terms of happiness scores. Also, how the countries in Africa and Southern Asia, or the Global South, have overall lower happiness scores."
   ]
  },
  {
   "cell_type": "markdown",
   "id": "7bd73e9b-767c-4848-bae2-f235ddff0b42",
   "metadata": {
    "tags": []
   },
   "source": [
    "---\n",
    "## CONCLUSION"
   ]
  },
  {
   "cell_type": "markdown",
   "id": "4aea886b-4463-4e7b-9f87-fe167aefc06d",
   "metadata": {},
   "source": [
    "Everybody looks at happiness in different ways, but through the World Happiness Report, we can clearly see some variables that played an important role to determine its scale. Through this kind of report, people can see how each year a country is handling to create a more liveable country for its citizen. [Countries](https://www.globalcitizen.org/en/content/happiest-and-unhappiest-countries-2022/) with already high GDP for example, are more focused more on human well-being factors to raise their happiness level, like the Nordic countries for example. Meanwhile, other countries still focusing on how to fulfill the basic needs of their people."
   ]
  }
 ],
 "metadata": {
  "kernelspec": {
   "display_name": "Python 3 (ipykernel)",
   "language": "python",
   "name": "python3"
  },
  "language_info": {
   "codemirror_mode": {
    "name": "ipython",
    "version": 3
   },
   "file_extension": ".py",
   "mimetype": "text/x-python",
   "name": "python",
   "nbconvert_exporter": "python",
   "pygments_lexer": "ipython3",
   "version": "3.10.0"
  }
 },
 "nbformat": 4,
 "nbformat_minor": 5
}
